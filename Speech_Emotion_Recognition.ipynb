{
 "cells": [
  {
   "cell_type": "markdown",
   "metadata": {
    "colab_type": "text",
    "id": "ZwoTWIysaNmc"
   },
   "source": [
    "<pre><font size=6>Spoken Emotion Recognition</font></pre>"
   ]
  },
  {
   "cell_type": "code",
   "execution_count": 2,
   "metadata": {
    "colab": {
     "base_uri": "https://localhost:8080/",
     "height": 126
    },
    "colab_type": "code",
    "id": "h-6HoVBOMaCU",
    "outputId": "36c5f2ec-1010-4031-85ac-feadd0eb612c"
   },
   "outputs": [
    {
     "name": "stdout",
     "output_type": "stream",
     "text": [
      "Go to this URL in a browser: https://accounts.google.com/o/oauth2/auth?client_id=947318989803-6bn6qk8qdgf4n4g3pfee6491hc0brc4i.apps.googleusercontent.com&redirect_uri=urn%3aietf%3awg%3aoauth%3a2.0%3aoob&response_type=code&scope=email%20https%3a%2f%2fwww.googleapis.com%2fauth%2fdocs.test%20https%3a%2f%2fwww.googleapis.com%2fauth%2fdrive%20https%3a%2f%2fwww.googleapis.com%2fauth%2fdrive.photos.readonly%20https%3a%2f%2fwww.googleapis.com%2fauth%2fpeopleapi.readonly\n",
      "\n",
      "Enter your authorization code:\n",
      "··········\n",
      "Mounted at /content/drive\n"
     ]
    }
   ],
   "source": [
    "from google.colab import drive\n",
    "drive.mount('/content/drive')"
   ]
  },
  {
   "cell_type": "markdown",
   "metadata": {
    "colab_type": "text",
    "id": "MhvSIN6raNm3"
   },
   "source": [
    "About the dataset: https://www.kaggle.com/uwrfkaggler/ravdess-emotional-speech-audio<br>\n",
    "You can download the dataset from here.\n",
    "<pre>\n",
    "A small description about the dataset:\n",
    "Files\n",
    "\n",
    "This portion of the RAVDESS contains 1440 files: 60 trials per actor x 24 actors = 1440. The RAVDESS contains 24 professional actors (12 female, 12 male), vocalizing two lexically-matched statements in a neutral North American accent. Speech emotions includes calm, happy, sad, angry, fearful, surprise, and disgust expressions. Each expression is produced at two levels of emotional intensity (normal, strong), with an additional neutral expression.\n",
    "\n",
    "File naming convention\n",
    "\n",
    "Each of the 1440 files has a unique filename. The filename consists of a 7-part numerical identifier (e.g., 03-01-06-01-02-01-12.wav). These identifiers define the stimulus characteristics:\n",
    "\n",
    "Filename identifiers\n",
    "\n",
    "Modality (01 = full-AV, 02 = video-only, 03 = audio-only).\n",
    "\n",
    "Vocal channel (01 = speech, 02 = song).\n",
    "\n",
    "Emotion (01 = neutral, 02 = calm, 03 = happy, 04 = sad, 05 = angry, 06 = fearful, 07 = disgust, 08 = surprised).\n",
    "\n",
    "Emotional intensity (01 = normal, 02 = strong). NOTE: There is no strong intensity for the 'neutral' emotion.\n",
    "\n",
    "Statement (01 = \"Kids are talking by the door\", 02 = \"Dogs are sitting by the door\").\n",
    "\n",
    "Repetition (01 = 1st repetition, 02 = 2nd repetition).\n",
    "\n",
    "Actor (01 to 24. Odd numbered actors are male, even numbered actors are female).\n",
    "\n",
    "Filename example: 03-01-06-01-02-01-12.wav\n",
    "\n",
    "Audio-only (03)\n",
    "Speech (01)\n",
    "Fearful (06)\n",
    "Normal intensity (01)\n",
    "Statement \"dogs\" (02)\n",
    "1st Repetition (01)\n",
    "12th Actor (12)\n",
    "Female, as the actor ID number is even.\n",
    "</pre>"
   ]
  },
  {
   "cell_type": "code",
   "execution_count": 3,
   "metadata": {
    "colab": {},
    "colab_type": "code",
    "id": "_qGuPcj-aNmh"
   },
   "outputs": [],
   "source": [
    "import numpy as np\n",
    "import pandas as pd\n",
    "import librosa\n",
    "import os"
   ]
  },
  {
   "cell_type": "markdown",
   "metadata": {
    "colab_type": "text",
    "id": "PdhFzGK1aNmo"
   },
   "source": [
    "We shared recordings.zip, please unzip those. "
   ]
  },
  {
   "cell_type": "code",
   "execution_count": 10,
   "metadata": {
    "colab": {
     "base_uri": "https://localhost:8080/",
     "height": 35
    },
    "colab_type": "code",
    "id": "HDBcl_PUaNmp",
    "outputId": "5eda3fb4-97bc-4075-ff6b-5d7b6cfe2d61"
   },
   "outputs": [
    {
     "name": "stdout",
     "output_type": "stream",
     "text": [
      "1440 1440\n"
     ]
    }
   ],
   "source": [
    "dir_path='/content/drive/My Drive/Speech Emotion Recognition'\n",
    "intermediate_folders=os.listdir(dir_path)\n",
    "all_files=[]\n",
    "all_paths=[]\n",
    "for folders in intermediate_folders:\n",
    "    if 'Images' not in folders:\n",
    "      files=os.listdir(dir_path+'/'+folders)\n",
    "    \n",
    "      all_files.extend(files)\n",
    "      for i in files:\n",
    "        all_paths.append(dir_path+'/'+folders+'/'+i)\n",
    "print(len(all_files),len(all_paths))"
   ]
  },
  {
   "cell_type": "code",
   "execution_count": 11,
   "metadata": {
    "colab": {},
    "colab_type": "code",
    "id": "fWP6vXBeaNm3"
   },
   "outputs": [],
   "source": [
    "emotion_class={1 : 'neutral', 2 : 'calm', 3 : 'happy', 4 : 'sad', 5 : 'angry', 6 : 'fearful', 7 : 'disgust', 8 : 'surprised'}\n",
    "intensity_class={1:'normal',2:'strong'}\n",
    "statement_class={1 : \"Kids are talking by the door\", 2 : \"Dogs are sitting by the door\"}\n",
    "repitition_class={1 : '1st repetition', 2 : '2nd repetition'}\n",
    "Modality=[]\n",
    "channel=[]\n",
    "Emotion=[]\n",
    "intensity=[]\n",
    "statement=[]\n",
    "repitition=[]\n",
    "actor=[]\n",
    "gender=[]\n",
    "audio_path=[]\n",
    "for i in all_files:\n",
    "  i=i[:-4]\n",
    "  i=i.split('-')\n",
    "  Modality.append(i[0])\n",
    "  channel.append(i[1])\n",
    "  Emotion.append(i[2])\n",
    "  intensity.append(i[3])\n",
    "  statement.append(i[4])\n",
    "  repitition.append(i[5])\n",
    "  actor.append(i[6])\n",
    "  audio_path.append(dir_path+'/')\n",
    "  if(int(i[6])%2==0):\n",
    "    gender.append('1')\n",
    "  else:\n",
    "    gender.append('0')"
   ]
  },
  {
   "cell_type": "code",
   "execution_count": 12,
   "metadata": {
    "colab": {
     "base_uri": "https://localhost:8080/",
     "height": 35
    },
    "colab_type": "code",
    "id": "5QaP4SqJiS_4",
    "outputId": "a35e1934-ef03-49e6-e92a-27a9a50db95d"
   },
   "outputs": [
    {
     "name": "stdout",
     "output_type": "stream",
     "text": [
      "(1440, 9)\n"
     ]
    }
   ],
   "source": [
    "import pandas as pd\n",
    "columns=['Modality','channel','Emotion','intensity','statement','repitition','actor','gender','audio_path']\n",
    "zipped=zip(Modality,channel,Emotion,intensity,statement,repitition,actor,gender,all_paths)\n",
    "data=pd.DataFrame(zipped,columns=columns)\n",
    "print(data.shape)"
   ]
  },
  {
   "cell_type": "code",
   "execution_count": 13,
   "metadata": {
    "colab": {
     "base_uri": "https://localhost:8080/",
     "height": 109
    },
    "colab_type": "code",
    "id": "HHtlJFNAi3EP",
    "outputId": "6df7d7d5-6daf-4f6c-a163-6497cc1b9804"
   },
   "outputs": [
    {
     "data": {
      "text/html": [
       "<div>\n",
       "<style scoped>\n",
       "    .dataframe tbody tr th:only-of-type {\n",
       "        vertical-align: middle;\n",
       "    }\n",
       "\n",
       "    .dataframe tbody tr th {\n",
       "        vertical-align: top;\n",
       "    }\n",
       "\n",
       "    .dataframe thead th {\n",
       "        text-align: right;\n",
       "    }\n",
       "</style>\n",
       "<table border=\"1\" class=\"dataframe\">\n",
       "  <thead>\n",
       "    <tr style=\"text-align: right;\">\n",
       "      <th></th>\n",
       "      <th>Modality</th>\n",
       "      <th>channel</th>\n",
       "      <th>Emotion</th>\n",
       "      <th>intensity</th>\n",
       "      <th>statement</th>\n",
       "      <th>repitition</th>\n",
       "      <th>actor</th>\n",
       "      <th>gender</th>\n",
       "      <th>audio_path</th>\n",
       "    </tr>\n",
       "  </thead>\n",
       "  <tbody>\n",
       "    <tr>\n",
       "      <th>0</th>\n",
       "      <td>03</td>\n",
       "      <td>01</td>\n",
       "      <td>01</td>\n",
       "      <td>01</td>\n",
       "      <td>01</td>\n",
       "      <td>01</td>\n",
       "      <td>03</td>\n",
       "      <td>0</td>\n",
       "      <td>/content/drive/My Drive/Speech Emotion Recogni...</td>\n",
       "    </tr>\n",
       "    <tr>\n",
       "      <th>1</th>\n",
       "      <td>03</td>\n",
       "      <td>01</td>\n",
       "      <td>01</td>\n",
       "      <td>01</td>\n",
       "      <td>02</td>\n",
       "      <td>01</td>\n",
       "      <td>03</td>\n",
       "      <td>0</td>\n",
       "      <td>/content/drive/My Drive/Speech Emotion Recogni...</td>\n",
       "    </tr>\n",
       "  </tbody>\n",
       "</table>\n",
       "</div>"
      ],
      "text/plain": [
       "  Modality channel  ... gender                                         audio_path\n",
       "0       03      01  ...      0  /content/drive/My Drive/Speech Emotion Recogni...\n",
       "1       03      01  ...      0  /content/drive/My Drive/Speech Emotion Recogni...\n",
       "\n",
       "[2 rows x 9 columns]"
      ]
     },
     "execution_count": 13,
     "metadata": {
      "tags": []
     },
     "output_type": "execute_result"
    }
   ],
   "source": [
    "data.head(2)"
   ]
  },
  {
   "cell_type": "markdown",
   "metadata": {
    "colab_type": "text",
    "id": "PZ448aENaNnR"
   },
   "source": [
    "<pre><font size=4>Train and Validation split</font></pre>"
   ]
  },
  {
   "cell_type": "code",
   "execution_count": 14,
   "metadata": {
    "colab": {},
    "colab_type": "code",
    "id": "kvA82LW0Lyqv"
   },
   "outputs": [],
   "source": [
    "X=data.drop('Emotion',axis=1)\n",
    "Y=data['Emotion']"
   ]
  },
  {
   "cell_type": "code",
   "execution_count": 15,
   "metadata": {
    "colab": {},
    "colab_type": "code",
    "id": "vSPy-Ln6aNnS"
   },
   "outputs": [],
   "source": [
    "from sklearn.model_selection import train_test_split\n",
    "X_train,X_test,y_train,y_test=train_test_split(X,Y,test_size=0.3,stratify=Y)"
   ]
  },
  {
   "cell_type": "code",
   "execution_count": 16,
   "metadata": {
    "colab": {
     "base_uri": "https://localhost:8080/",
     "height": 35
    },
    "colab_type": "code",
    "id": "GycMFRARwOvH",
    "outputId": "a679c32e-a2de-4278-a222-cdddacaf4ab1"
   },
   "outputs": [
    {
     "name": "stdout",
     "output_type": "stream",
     "text": [
      "(1008, 8) (432, 8)\n"
     ]
    }
   ],
   "source": [
    "print(X_train.shape,X_test.shape)"
   ]
  },
  {
   "cell_type": "code",
   "execution_count": 17,
   "metadata": {
    "colab": {},
    "colab_type": "code",
    "id": "i99JacQSaNnc"
   },
   "outputs": [],
   "source": [
    "sample_rate = 5513\n",
    "def load_wav(x, get_duration=True):\n",
    "    samples, sample_rate = librosa.load(x, sr=5513)\n",
    "    if get_duration:\n",
    "        duration = librosa.get_duration(samples, sample_rate)\n",
    "        return [samples, duration]\n",
    "    else:\n",
    "        return samples"
   ]
  },
  {
   "cell_type": "code",
   "execution_count": 18,
   "metadata": {
    "colab": {},
    "colab_type": "code",
    "id": "Rx97f8GGaNnh"
   },
   "outputs": [],
   "source": [
    "X_train_processed=[]\n",
    "X_test_processed=[]\n",
    "for i in X_train['audio_path']:\n",
    "    X_train_processed.append(load_wav(i,get_duration=True))\n",
    "for i in X_test['audio_path']:\n",
    "    X_test_processed.append(load_wav(i,get_duration=True))"
   ]
  },
  {
   "cell_type": "code",
   "execution_count": 19,
   "metadata": {
    "colab": {
     "base_uri": "https://localhost:8080/",
     "height": 35
    },
    "colab_type": "code",
    "id": "0aS8bMHaHcXz",
    "outputId": "6925f873-23be-4bec-e54b-844191b84835"
   },
   "outputs": [
    {
     "name": "stdout",
     "output_type": "stream",
     "text": [
      "2 18396 3.3368401959005984\n"
     ]
    }
   ],
   "source": [
    "print(len(X_train_processed[0]),len(X_train_processed[0][0]),X_train_processed[0][1])"
   ]
  },
  {
   "cell_type": "code",
   "execution_count": 13,
   "metadata": {
    "colab": {},
    "colab_type": "code",
    "id": "YOF1WT2oLyra"
   },
   "outputs": [],
   "source": [
    "train_duration=[]\n",
    "test_duration=[]\n",
    "for i in range(0,len(X_train_processed)):\n",
    "    train_duration.append(X_train_processed[i][1])\n",
    "for i in range(0,len(X_test_processed)):\n",
    "    test_duration.append(X_test_processed[i][1])"
   ]
  },
  {
   "cell_type": "code",
   "execution_count": 14,
   "metadata": {
    "colab": {
     "base_uri": "https://localhost:8080/",
     "height": 513
    },
    "colab_type": "code",
    "id": "duQZPQevaNno",
    "outputId": "035ffa20-283f-4690-dcff-81d631bee21a"
   },
   "outputs": [
    {
     "data": {
      "image/png": "[encoded data removed]",
      "text/plain": [
       "<Figure size 432x288 with 1 Axes>"
      ]
     },
     "metadata": {
      "needs_background": "light",
      "tags": []
     },
     "output_type": "display_data"
    },
    {
     "data": {
      "image/png": "[encoded data removed]",
      "text/plain": [
       "<Figure size 432x288 with 1 Axes>"
      ]
     },
     "metadata": {
      "needs_background": "light",
      "tags": []
     },
     "output_type": "display_data"
    }
   ],
   "source": [
    "n_bins=20\n",
    "import matplotlib.pyplot as plt\n",
    "plt.hist(train_duration,bins=n_bins)\n",
    "plt.show()\n",
    "plt.hist(test_duration,bins=n_bins)\n",
    "plt.show()"
   ]
  },
  {
   "cell_type": "code",
   "execution_count": 15,
   "metadata": {
    "colab": {
     "base_uri": "https://localhost:8080/",
     "height": 212
    },
    "colab_type": "code",
    "id": "vvLhm1AqaNny",
    "outputId": "6c862a01-3228-4e4e-f523-588c7b0f47c6"
   },
   "outputs": [
    {
     "name": "stdout",
     "output_type": "stream",
     "text": [
      "0th percentile: 3.003083620533285\n",
      "10th percentile: 3.303464538363867\n",
      "20th percentile: 3.4367857790676584\n",
      "30th percentile: 3.5369127516778525\n",
      "40th percentile: 3.603664066751315\n",
      "50th percentile: 3.670415381824778\n",
      "60th percentile: 3.7371666968982407\n",
      "70th percentile: 3.8372936695084348\n",
      "80th percentile: 3.97079629965536\n",
      "90th percentile: 4.137493197895883\n",
      "100th percentile: 5.272084164701615\n"
     ]
    }
   ],
   "source": [
    "for i in range(0,101,10):\n",
    "    p=np.percentile(train_duration,i)\n",
    "    print('{}th percentile: {}'.format(i,p))"
   ]
  },
  {
   "cell_type": "code",
   "execution_count": 16,
   "metadata": {
    "colab": {
     "base_uri": "https://localhost:8080/",
     "height": 212
    },
    "colab_type": "code",
    "id": "rSlVQh4CaNn2",
    "outputId": "7ad1aba4-04e4-45e9-ab2e-e3f806fe86fd"
   },
   "outputs": [
    {
     "name": "stdout",
     "output_type": "stream",
     "text": [
      "90th percentile: 4.137493197895883\n",
      "91th percentile: 4.170868855432614\n",
      "92th percentile: 4.204244512969345\n",
      "93th percentile: 4.2376201705060765\n",
      "94th percentile: 4.270995828042808\n",
      "95th percentile: 4.337747143116271\n",
      "96th percentile: 4.371122800653002\n",
      "97th percentile: 4.471249773263196\n",
      "98th percentile: 4.60007981135498\n",
      "99th percentile: 4.671503718483584\n",
      "100th percentile: 5.272084164701615\n"
     ]
    }
   ],
   "source": [
    "for i in range(90,101):\n",
    "    p=np.percentile(train_duration,i)\n",
    "    print('{}th percentile: {}'.format(i,p))"
   ]
  },
  {
   "cell_type": "code",
   "execution_count": 17,
   "metadata": {
    "colab": {
     "base_uri": "https://localhost:8080/",
     "height": 35
    },
    "colab_type": "code",
    "id": "5t8W0ZxMIQwt",
    "outputId": "ddefd4ab-baef-449b-ba40-fa8474ad4709"
   },
   "outputs": [
    {
     "name": "stdout",
     "output_type": "stream",
     "text": [
      "22603\n"
     ]
    }
   ],
   "source": [
    "print(int(4.1*sample_rate))"
   ]
  },
  {
   "cell_type": "code",
   "execution_count": 20,
   "metadata": {
    "colab": {},
    "colab_type": "code",
    "id": "1HiX9xiTmuIz"
   },
   "outputs": [],
   "source": [
    "X_train_processed=pd.DataFrame(X_train_processed,columns=['raw_data','duration'])\n",
    "X_test_processed=pd.DataFrame(X_test_processed,columns=['raw_data','duration'])"
   ]
  },
  {
   "cell_type": "markdown",
   "metadata": {
    "colab_type": "text",
    "id": "Cux3_jfcaNoM"
   },
   "source": [
    "<pre>Based on the analysis 90 percentile values are less than 4.13 sec so we will limit maximum length of X_train_processed and X_test_processed to 4.1 sec. It is similar to pad_sequence for a text dataset. \n",
    "\n",
    "While loading the audio files, we are using sampling rate of 22050 so one sec will give array of length 5513. so, our maximum length is 4.1*5513 = 22603\n",
    "\n",
    "Pad with Zero if length of sequence is less than 22603 else Truncate the number. \n",
    "\n",
    "Also create a masking vector for train and test.\n",
    "\n",
    "masking vector value = 1 if it is real value, 0 if it is pad value. Masking vector data type must be bool.\n",
    "</pre>"
   ]
  },
  {
   "cell_type": "markdown",
   "metadata": {
    "colab_type": "text",
    "id": "aSl8ZOXjaNqJ"
   },
   "source": [
    "### 2. data augmentation  \n",
    "<pre>\n",
    "There are two types of augmentation:\n",
    "1. time stretching - Time stretching either increases or decreases the length of the file. For time stretching we move the file 30% faster or slower\n",
    "2. pitch shifting - pitch shifting moves the frequencies higher or lower. For pitch shifting we shift up or down one half-step.\n",
    "Here, we will implement both of the above types\n",
    "</pre>"
   ]
  },
  {
   "cell_type": "code",
   "execution_count": 13,
   "metadata": {
    "colab": {},
    "colab_type": "code",
    "id": "jR4JSEDgaNqK"
   },
   "outputs": [],
   "source": [
    "def generate_augmented_data(file_path):\n",
    "    augmented_data = []\n",
    "    samples = load_wav(file_path,get_duration=False)\n",
    "    for time_value in [0.7, 1, 1.3]:\n",
    "        for pitch_value in [-1, 0, 1]:\n",
    "            time_stretch_data = librosa.effects.time_stretch(samples, rate=time_value)\n",
    "            final_data = librosa.effects.pitch_shift(time_stretch_data, sr=sample_rate, n_steps=pitch_value)\n",
    "            augmented_data.append(final_data)\n",
    "    return augmented_data"
   ]
  },
  {
   "cell_type": "code",
   "execution_count": 20,
   "metadata": {
    "colab": {
     "base_uri": "https://localhost:8080/",
     "height": 52
    },
    "colab_type": "code",
    "id": "QRdefb-SaNqS",
    "outputId": "9aeda5b1-ed13-4402-f76c-74291166092b"
   },
   "outputs": [
    {
     "name": "stderr",
     "output_type": "stream",
     "text": [
      "100%|██████████| 1440/1440 [19:44<00:00,  1.22it/s]"
     ]
    },
    {
     "name": "stdout",
     "output_type": "stream",
     "text": [
      "(1440, 9)\n"
     ]
    },
    {
     "name": "stderr",
     "output_type": "stream",
     "text": [
      "\n"
     ]
    }
   ],
   "source": [
    "from tqdm import tqdm\n",
    "aug_temp = generate_augmented_data(all_paths[0])\n",
    "augmented_data=[]\n",
    "for i in tqdm(range(0,len(all_paths))):\n",
    "  temp_path = all_paths[i]\n",
    "  aug_temp = generate_augmented_data(temp_path)\n",
    "  augmented_data.append(aug_temp)\n",
    "augmented_data=np.asarray(augmented_data)\n",
    "print(augmented_data.shape)"
   ]
  },
  {
   "cell_type": "code",
   "execution_count": 21,
   "metadata": {
    "colab": {
     "base_uri": "https://localhost:8080/",
     "height": 52
    },
    "colab_type": "code",
    "id": "z5VsfY5yW1vf",
    "outputId": "71f54c84-8925-4583-c7d1-460956933612"
   },
   "outputs": [
    {
     "name": "stdout",
     "output_type": "stream",
     "text": [
      "(27648,)\n",
      "12960\n"
     ]
    }
   ],
   "source": [
    "print(augmented_data[0][2].shape)\n",
    "aug_data=[]\n",
    "for i in range(0,1440):\n",
    "  for j in range(9):\n",
    "    aug_data.append(augmented_data[i][j])\n",
    "print(len(aug_data))"
   ]
  },
  {
   "cell_type": "code",
   "execution_count": 22,
   "metadata": {
    "colab": {
     "base_uri": "https://localhost:8080/",
     "height": 35
    },
    "colab_type": "code",
    "id": "k5nBjZ4lk84B",
    "outputId": "2e190e0c-2ead-4b3d-f97c-4f51828d2b74"
   },
   "outputs": [
    {
     "name": "stdout",
     "output_type": "stream",
     "text": [
      "12960 27648\n"
     ]
    }
   ],
   "source": [
    "print(len(aug_data),len(aug_data[0]))\n",
    "aug_data=np.array(aug_data)"
   ]
  },
  {
   "cell_type": "code",
   "execution_count": 23,
   "metadata": {
    "colab": {
     "base_uri": "https://localhost:8080/",
     "height": 35
    },
    "colab_type": "code",
    "id": "KsG5izZHb31h",
    "outputId": "b63431fb-5ec5-4c58-9b40-59fb32fe3428"
   },
   "outputs": [
    {
     "name": "stdout",
     "output_type": "stream",
     "text": [
      "12960\n"
     ]
    }
   ],
   "source": [
    "Y_augmented=[]\n",
    "for i in range(len(Y)):\n",
    "  for j in range(9):\n",
    "    Y_augmented.append(Y[i])\n",
    "print(len(Y_augmented))"
   ]
  },
  {
   "cell_type": "code",
   "execution_count": 24,
   "metadata": {
    "colab": {},
    "colab_type": "code",
    "id": "bmZggtmEdPLf"
   },
   "outputs": [],
   "source": [
    "Y_augmented=np.array(Y_augmented)"
   ]
  },
  {
   "cell_type": "code",
   "execution_count": 25,
   "metadata": {
    "colab": {
     "base_uri": "https://localhost:8080/",
     "height": 35
    },
    "colab_type": "code",
    "id": "fe3SQO8zcvad",
    "outputId": "0ef48ac9-6d17-45bd-95ae-fc0635dc9555"
   },
   "outputs": [
    {
     "name": "stdout",
     "output_type": "stream",
     "text": [
      "(8683,) (4277,) (8683,)\n"
     ]
    }
   ],
   "source": [
    "X_train,X_test,Y_train,Y_test=train_test_split(aug_data,Y_augmented,test_size=0.33,stratify=Y_augmented)\n",
    "print(X_train.shape,X_test.shape,Y_train.shape)"
   ]
  },
  {
   "cell_type": "code",
   "execution_count": 26,
   "metadata": {
    "colab": {
     "base_uri": "https://localhost:8080/",
     "height": 35
    },
    "colab_type": "code",
    "id": "fHrYSFadmK6l",
    "outputId": "38011adb-eb3f-4350-e8d7-ee9072e5c786"
   },
   "outputs": [
    {
     "name": "stdout",
     "output_type": "stream",
     "text": [
      "(8683, 1) (4277, 1)\n"
     ]
    }
   ],
   "source": [
    "X_train_processed=pd.DataFrame(X_train,columns=['raw_data'])\n",
    "X_test_processed=pd.DataFrame(X_test,columns=['raw_data'])\n",
    "print(X_train_processed.shape,X_test_processed.shape)"
   ]
  },
  {
   "cell_type": "code",
   "execution_count": 27,
   "metadata": {
    "colab": {},
    "colab_type": "code",
    "id": "I1zPZ7UKm_8X"
   },
   "outputs": [],
   "source": [
    "max_length=int(4.6*sample_rate)"
   ]
  },
  {
   "cell_type": "code",
   "execution_count": 28,
   "metadata": {
    "colab": {},
    "colab_type": "code",
    "id": "msHy63KKltFq"
   },
   "outputs": [],
   "source": [
    "X_train_pad_seq_aug=np.zeros(shape=(8683,max_length))\n",
    "X_test_pad_seq_aug=np.zeros(shape=(4277,max_length))\n",
    "X_train_mask_aug=np.zeros(shape=(8683,max_length),dtype=bool)\n",
    "X_test_mask_aug=np.zeros(shape=(4277,max_length),dtype=bool)\n",
    "for i in range(0,len(X_train_processed)):\n",
    "    x1=X_train_processed.iloc[i]\n",
    "    x1=x1[0]\n",
    "    mask=np.ones(len(x1))\n",
    "    if len(x1) <max_length:\n",
    "        x=np.zeros(max_length-len(x1))\n",
    "        x1=np.append(x1,x)\n",
    "        mask=np.append(mask,x)\n",
    "    if len(x1) > max_length:\n",
    "        x1=x1[0:max_length]\n",
    "        mask=mask[0:max_length]\n",
    "    X_train_mask_aug[i]=mask\n",
    "    X_train_pad_seq_aug[i]=x1\n",
    "\n",
    "for i in range(0,len(X_test_processed)):\n",
    "    x1=X_test_processed.iloc[i]\n",
    "    x1=x1[0]\n",
    "    mask=np.ones(len(x1))\n",
    "    if len(x1) <max_length:\n",
    "        x=np.zeros(max_length-len(x1))\n",
    "        x1=np.append(x1,x)\n",
    "        mask=np.append(mask,x)\n",
    "    if len(x1) > max_length:\n",
    "        x1=x1[0:max_length]\n",
    "        mask=mask[0:max_length]\n",
    "    X_test_mask_aug[i]=mask\n",
    "    X_test_pad_seq_aug[i]=x1"
   ]
  },
  {
   "cell_type": "code",
   "execution_count": 29,
   "metadata": {
    "colab": {
     "base_uri": "https://localhost:8080/",
     "height": 35
    },
    "colab_type": "code",
    "id": "hzptSQLgb7qn",
    "outputId": "6f6e75ba-d945-4681-9a4b-1cd5da049dfb"
   },
   "outputs": [
    {
     "name": "stdout",
     "output_type": "stream",
     "text": [
      "<class 'numpy.ndarray'> <class 'numpy.ndarray'> <class 'numpy.ndarray'> <class 'numpy.ndarray'>\n"
     ]
    }
   ],
   "source": [
    "print(type(X_train[0]),type(X_test[0]),type(Y_train),type(Y_test))"
   ]
  },
  {
   "cell_type": "code",
   "execution_count": null,
   "metadata": {
    "colab": {},
    "colab_type": "code",
    "id": "k-6B_U-fy1NF"
   },
   "outputs": [],
   "source": [
    "Y_train=Y_train.astype(int)\n",
    "Y_test=Y_test.astype(int)"
   ]
  },
  {
   "cell_type": "code",
   "execution_count": 31,
   "metadata": {
    "colab": {},
    "colab_type": "code",
    "id": "BdMr-pguzr7j"
   },
   "outputs": [],
   "source": [
    "Y_tr=[]\n",
    "Y_tst=[]\n",
    "for i in Y_train:\n",
    "  Y_tr.append(i-1)\n",
    "for i in Y_test:\n",
    "  Y_tst.append(i-1) "
   ]
  },
  {
   "cell_type": "code",
   "execution_count": 32,
   "metadata": {
    "colab": {},
    "colab_type": "code",
    "id": "S3R7WNmDosyc"
   },
   "outputs": [],
   "source": [
    "import tensorflow as tf\n",
    "Y_tr=tf.keras.utils.to_categorical(Y_tr,8)\n",
    "Y_tst=tf.keras.utils.to_categorical(Y_tst,8)"
   ]
  },
  {
   "cell_type": "markdown",
   "metadata": {
    "colab_type": "text",
    "id": "2Fwk0X4zaNpR"
   },
   "source": [
    "### 3. Converting into spectrogram\n",
    "<pre>\n",
    "We can use librosa to convert raw data into spectrogram. A spectrogram shows the features in a two-dimensional representation with the\n",
    "intensity of a frequency at a point in time i.e we are converting Time domain to frequency domain. you can read more about this in https://pnsn.org/spectrograms/what-is-a-spectrogram\n",
    "</pre>"
   ]
  },
  {
   "cell_type": "markdown",
   "metadata": {
    "colab_type": "text",
    "id": "ZckytZsraNqk"
   },
   "source": [
    "As discussed above, for one data point, we will get 9 augmented data points.  \n",
    "We have 1440 data points(train plus test) so, after augmentation we will get 12960 ( train - 8683, test - 4277). \n",
    "\n",
    "do the above steps i.e training with raw data and spectrogram data with augmentation."
   ]
  },
  {
   "cell_type": "code",
   "execution_count": 21,
   "metadata": {
    "colab": {},
    "colab_type": "code",
    "id": "_pKuofxg6ZKi"
   },
   "outputs": [],
   "source": [
    "def convert_to_spectrogram(raw_data):\n",
    "    spectrum = librosa.feature.melspectrogram(y=raw_data, sr=sample_rate, n_mels=64)\n",
    "    logmel_spectrum = librosa.power_to_db(S=spectrum, ref=np.max)\n",
    "    return logmel_spectrum"
   ]
  },
  {
   "cell_type": "code",
   "execution_count": 34,
   "metadata": {
    "colab": {},
    "colab_type": "code",
    "id": "aIfgWvNoWJbN"
   },
   "outputs": [],
   "source": [
    "X_train_spectrogram_aug=[]\n",
    "X_test_spectrogram_aug=[]\n",
    "for i in range(0,len(X_train_pad_seq_aug)):\n",
    "  X_train_spectrogram_aug.append(convert_to_spectrogram(X_train_pad_seq_aug[i]))\n",
    "for i in range(0,len(X_test_pad_seq_aug)):\n",
    "  X_test_spectrogram_aug.append(convert_to_spectrogram(X_test_pad_seq_aug[i]))"
   ]
  },
  {
   "cell_type": "code",
   "execution_count": 35,
   "metadata": {
    "colab": {},
    "colab_type": "code",
    "id": "BaTqHt3HMRLb"
   },
   "outputs": [],
   "source": [
    "X_train_spectrogram_aug=np.array(X_train_spectrogram_aug)\n",
    "X_test_spectrogram_aug=np.array(X_test_spectrogram_aug)"
   ]
  },
  {
   "cell_type": "code",
   "execution_count": 36,
   "metadata": {
    "colab": {
     "base_uri": "https://localhost:8080/",
     "height": 35
    },
    "colab_type": "code",
    "id": "S2Qd3Z3Q7pL9",
    "outputId": "1f828f59-d3cb-49cb-941d-6dffd9029be4"
   },
   "outputs": [
    {
     "name": "stdout",
     "output_type": "stream",
     "text": [
      "(8683, 64, 50) (1440, 9)\n"
     ]
    }
   ],
   "source": [
    "print(X_train_spectrogram_aug.shape,data.shape)"
   ]
  },
  {
   "cell_type": "code",
   "execution_count": 39,
   "metadata": {
    "colab": {
     "base_uri": "https://localhost:8080/",
     "height": 604
    },
    "colab_type": "code",
    "id": "Xt7kE2U90iaM",
    "outputId": "e1ce1544-1567-4d93-a999-3ac43d8abb62"
   },
   "outputs": [
    {
     "name": "stdout",
     "output_type": "stream",
     "text": [
      "WARNING:tensorflow:Layer lstm will not use cuDNN kernel since it doesn't meet the cuDNN kernel criteria. It will use generic GPU kernel as fallback when running on GPU\n",
      "Model: \"model\"\n",
      "_________________________________________________________________\n",
      "Layer (type)                 Output Shape              Param #   \n",
      "=================================================================\n",
      "input_1 (InputLayer)         [(None, 64, 50)]          0         \n",
      "_________________________________________________________________\n",
      "conv1d (Conv1D)              (None, 64, 32)            6432      \n",
      "_________________________________________________________________\n",
      "max_pooling1d (MaxPooling1D) (None, 16, 32)            0         \n",
      "_________________________________________________________________\n",
      "batch_normalization (BatchNo (None, 16, 32)            128       \n",
      "_________________________________________________________________\n",
      "conv1d_1 (Conv1D)            (None, 16, 64)            8256      \n",
      "_________________________________________________________________\n",
      "max_pooling1d_1 (MaxPooling1 (None, 4, 64)             0         \n",
      "_________________________________________________________________\n",
      "batch_normalization_1 (Batch (None, 4, 64)             256       \n",
      "_________________________________________________________________\n",
      "conv1d_2 (Conv1D)            (None, 4, 64)             16448     \n",
      "_________________________________________________________________\n",
      "max_pooling1d_2 (MaxPooling1 (None, 1, 64)             0         \n",
      "_________________________________________________________________\n",
      "batch_normalization_2 (Batch (None, 1, 64)             256       \n",
      "_________________________________________________________________\n",
      "lstm (LSTM)                  (None, 512)               1181696   \n",
      "_________________________________________________________________\n",
      "dense (Dense)                (None, 8)                 4104      \n",
      "=================================================================\n",
      "Total params: 1,217,576\n",
      "Trainable params: 1,217,256\n",
      "Non-trainable params: 320\n",
      "_________________________________________________________________\n"
     ]
    }
   ],
   "source": [
    "from tensorflow.keras import Input,layers,Model,regularizers\n",
    "ip_pad=Input(shape=(64,50))\n",
    "l2=layers.Conv1D(32, 4, activation='relu', padding='same')(ip_pad)\n",
    "l3=layers.MaxPooling1D(4)(l2)\n",
    "bn_1=layers.BatchNormalization()(l3)\n",
    "l4=layers.Conv1D(64, 4, activation='relu', padding='same')(bn_1)\n",
    "l5=layers.MaxPooling1D(4)(l4)\n",
    "bn_2=layers.BatchNormalization()(l5)\n",
    "#l6=layers.Flatten()(l5)\n",
    "l6=layers.Conv1D(64, 4, activation='relu', padding='same')(bn_2)\n",
    "l7=layers.MaxPooling1D(4)(l6)\n",
    "bn_3=layers.BatchNormalization()(l7)\n",
    "\n",
    "l8=layers.LSTM(512,dropout=0.5,activation='relu',kernel_initializer='he_uniform',kernel_regularizer=regularizers.l2(0.001))(bn_3)\n",
    "\n",
    "op=layers.Dense(8,activation='softmax')(l8)\n",
    "model2=Model(inputs=ip_pad,outputs=op)\n",
    "model2.summary()"
   ]
  },
  {
   "cell_type": "code",
   "execution_count": 40,
   "metadata": {
    "colab": {
     "base_uri": "https://localhost:8080/",
     "height": 1000
    },
    "colab_type": "code",
    "id": "w4od-omZKnaz",
    "outputId": "7ce1b9a0-aeb3-49f1-9f9f-6c64e4074958"
   },
   "outputs": [
    {
     "name": "stdout",
     "output_type": "stream",
     "text": [
      "Epoch 1/75\n",
      "1085/1085 [==============================] - 17s 16ms/step - loss: 3.7373 - accuracy: 0.2384 - val_loss: 2.8249 - val_accuracy: 0.2458\n",
      "Epoch 2/75\n",
      "1085/1085 [==============================] - 16s 15ms/step - loss: 2.1984 - accuracy: 0.3507 - val_loss: 1.9728 - val_accuracy: 0.3663\n",
      "Epoch 3/75\n",
      "1085/1085 [==============================] - 17s 15ms/step - loss: 1.7901 - accuracy: 0.4008 - val_loss: 1.8100 - val_accuracy: 0.3717\n",
      "Epoch 4/75\n",
      "1085/1085 [==============================] - 17s 15ms/step - loss: 1.6596 - accuracy: 0.4255 - val_loss: 1.5419 - val_accuracy: 0.4555\n",
      "Epoch 5/75\n",
      "1085/1085 [==============================] - 17s 15ms/step - loss: 1.5724 - accuracy: 0.4512 - val_loss: 1.4899 - val_accuracy: 0.4728\n",
      "Epoch 6/75\n",
      "1085/1085 [==============================] - 17s 15ms/step - loss: 1.5045 - accuracy: 0.4763 - val_loss: 1.5868 - val_accuracy: 0.4621\n",
      "Epoch 7/75\n",
      "1085/1085 [==============================] - 17s 15ms/step - loss: 1.4602 - accuracy: 0.4906 - val_loss: 1.2895 - val_accuracy: 0.5405\n",
      "Epoch 8/75\n",
      "1085/1085 [==============================] - 17s 15ms/step - loss: 1.4215 - accuracy: 0.5110 - val_loss: 1.4139 - val_accuracy: 0.5157\n",
      "Epoch 9/75\n",
      "1085/1085 [==============================] - 17s 15ms/step - loss: 1.3907 - accuracy: 0.5216 - val_loss: 1.4984 - val_accuracy: 0.5047\n",
      "Epoch 10/75\n",
      "1085/1085 [==============================] - 17s 15ms/step - loss: 1.3742 - accuracy: 0.5261 - val_loss: 1.2557 - val_accuracy: 0.5641\n",
      "Epoch 11/75\n",
      "1085/1085 [==============================] - 17s 15ms/step - loss: 1.3485 - accuracy: 0.5412 - val_loss: 1.2468 - val_accuracy: 0.5550\n",
      "Epoch 12/75\n",
      "1085/1085 [==============================] - 17s 15ms/step - loss: 1.3344 - accuracy: 0.5440 - val_loss: 1.1951 - val_accuracy: 0.5957\n",
      "Epoch 13/75\n",
      "1085/1085 [==============================] - 16s 15ms/step - loss: 1.3007 - accuracy: 0.5609 - val_loss: 1.2002 - val_accuracy: 0.5716\n",
      "Epoch 14/75\n",
      "1085/1085 [==============================] - 17s 16ms/step - loss: 1.2741 - accuracy: 0.5703 - val_loss: 1.0889 - val_accuracy: 0.6273\n",
      "Epoch 15/75\n",
      "1085/1085 [==============================] - 16s 15ms/step - loss: 1.2486 - accuracy: 0.5787 - val_loss: 1.1681 - val_accuracy: 0.5880\n",
      "Epoch 16/75\n",
      "1085/1085 [==============================] - 17s 15ms/step - loss: 1.2435 - accuracy: 0.5816 - val_loss: 1.4827 - val_accuracy: 0.4913\n",
      "Epoch 17/75\n",
      "1085/1085 [==============================] - 17s 15ms/step - loss: 1.2138 - accuracy: 0.5935 - val_loss: 1.0637 - val_accuracy: 0.6318\n",
      "Epoch 18/75\n",
      "1085/1085 [==============================] - 17s 15ms/step - loss: 1.2121 - accuracy: 0.5957 - val_loss: 1.0836 - val_accuracy: 0.6323\n",
      "Epoch 19/75\n",
      "1085/1085 [==============================] - 17s 15ms/step - loss: 1.1949 - accuracy: 0.6006 - val_loss: 1.4914 - val_accuracy: 0.4934\n",
      "Epoch 20/75\n",
      "1085/1085 [==============================] - 17s 15ms/step - loss: 1.1776 - accuracy: 0.6092 - val_loss: 1.0770 - val_accuracy: 0.6257\n",
      "Epoch 21/75\n",
      "1085/1085 [==============================] - 17s 15ms/step - loss: 1.1613 - accuracy: 0.6161 - val_loss: 1.1105 - val_accuracy: 0.6213\n",
      "Epoch 22/75\n",
      "1085/1085 [==============================] - 17s 15ms/step - loss: 1.1433 - accuracy: 0.6210 - val_loss: 1.0942 - val_accuracy: 0.6215\n",
      "Epoch 23/75\n",
      "1085/1085 [==============================] - 17s 15ms/step - loss: 1.1320 - accuracy: 0.6258 - val_loss: 1.1064 - val_accuracy: 0.6325\n",
      "Epoch 24/75\n",
      "1085/1085 [==============================] - 17s 15ms/step - loss: 1.1132 - accuracy: 0.6311 - val_loss: 1.3517 - val_accuracy: 0.5616\n",
      "Epoch 25/75\n",
      "1085/1085 [==============================] - 17s 15ms/step - loss: 1.1048 - accuracy: 0.6309 - val_loss: 1.1363 - val_accuracy: 0.6049\n",
      "Epoch 26/75\n",
      "1085/1085 [==============================] - 17s 15ms/step - loss: 1.1212 - accuracy: 0.6293 - val_loss: 1.1095 - val_accuracy: 0.6285\n",
      "Epoch 27/75\n",
      "1085/1085 [==============================] - 17s 15ms/step - loss: 1.0688 - accuracy: 0.6455 - val_loss: 0.9797 - val_accuracy: 0.6671\n",
      "Epoch 28/75\n",
      "1085/1085 [==============================] - 17s 15ms/step - loss: 1.0854 - accuracy: 0.6444 - val_loss: 1.0212 - val_accuracy: 0.6496\n",
      "Epoch 29/75\n",
      "1085/1085 [==============================] - 17s 15ms/step - loss: 1.0537 - accuracy: 0.6530 - val_loss: 1.0573 - val_accuracy: 0.6533\n",
      "Epoch 30/75\n",
      "1085/1085 [==============================] - 16s 15ms/step - loss: 1.0379 - accuracy: 0.6606 - val_loss: 1.1382 - val_accuracy: 0.6117\n",
      "Epoch 31/75\n",
      "1085/1085 [==============================] - 17s 15ms/step - loss: 1.0367 - accuracy: 0.6605 - val_loss: 0.9923 - val_accuracy: 0.6721\n",
      "Epoch 32/75\n",
      "1085/1085 [==============================] - 17s 16ms/step - loss: 1.0260 - accuracy: 0.6686 - val_loss: 0.9974 - val_accuracy: 0.6770\n",
      "Epoch 33/75\n",
      "1085/1085 [==============================] - 17s 16ms/step - loss: 1.0372 - accuracy: 0.6648 - val_loss: 1.0567 - val_accuracy: 0.6447\n",
      "Epoch 34/75\n",
      "1085/1085 [==============================] - 17s 15ms/step - loss: 1.0100 - accuracy: 0.6771 - val_loss: 0.9924 - val_accuracy: 0.6657\n",
      "Epoch 35/75\n",
      "1085/1085 [==============================] - 17s 15ms/step - loss: 1.0073 - accuracy: 0.6697 - val_loss: 0.9514 - val_accuracy: 0.6809\n",
      "Epoch 36/75\n",
      "1085/1085 [==============================] - 16s 15ms/step - loss: 0.9958 - accuracy: 0.6725 - val_loss: 0.9309 - val_accuracy: 0.6978\n",
      "Epoch 37/75\n",
      "1085/1085 [==============================] - 16s 15ms/step - loss: 0.9802 - accuracy: 0.6769 - val_loss: 0.9163 - val_accuracy: 0.6990\n",
      "Epoch 38/75\n",
      "1085/1085 [==============================] - 17s 15ms/step - loss: 0.9810 - accuracy: 0.6835 - val_loss: 1.0571 - val_accuracy: 0.6517\n",
      "Epoch 39/75\n",
      "1085/1085 [==============================] - 17s 15ms/step - loss: 0.9785 - accuracy: 0.6821 - val_loss: 1.0390 - val_accuracy: 0.6489\n",
      "Epoch 40/75\n",
      "1085/1085 [==============================] - 16s 15ms/step - loss: 0.9657 - accuracy: 0.6830 - val_loss: 0.9926 - val_accuracy: 0.6704\n",
      "Epoch 41/75\n",
      "1085/1085 [==============================] - 17s 15ms/step - loss: 0.9604 - accuracy: 0.6900 - val_loss: 0.9053 - val_accuracy: 0.6941\n",
      "Epoch 42/75\n",
      "1085/1085 [==============================] - 17s 15ms/step - loss: 0.9543 - accuracy: 0.6937 - val_loss: 1.0429 - val_accuracy: 0.6547\n",
      "Epoch 43/75\n",
      "1085/1085 [==============================] - 16s 15ms/step - loss: 0.9406 - accuracy: 0.6920 - val_loss: 1.0388 - val_accuracy: 0.6571\n",
      "Epoch 44/75\n",
      "1085/1085 [==============================] - 17s 15ms/step - loss: 0.9445 - accuracy: 0.6911 - val_loss: 0.8821 - val_accuracy: 0.7114\n",
      "Epoch 45/75\n",
      "1085/1085 [==============================] - 17s 15ms/step - loss: 0.9309 - accuracy: 0.6942 - val_loss: 0.9830 - val_accuracy: 0.6728\n",
      "Epoch 46/75\n",
      "1085/1085 [==============================] - 17s 15ms/step - loss: 0.9297 - accuracy: 0.7005 - val_loss: 1.0782 - val_accuracy: 0.6475\n",
      "Epoch 47/75\n",
      "1085/1085 [==============================] - 17s 15ms/step - loss: 0.9120 - accuracy: 0.7010 - val_loss: 0.9514 - val_accuracy: 0.6898\n",
      "Epoch 48/75\n",
      "1085/1085 [==============================] - 17s 16ms/step - loss: 0.9234 - accuracy: 0.7047 - val_loss: 0.9023 - val_accuracy: 0.6950\n",
      "Epoch 49/75\n",
      "1085/1085 [==============================] - 17s 15ms/step - loss: 0.9117 - accuracy: 0.7084 - val_loss: 0.9208 - val_accuracy: 0.6889\n",
      "Epoch 50/75\n",
      "1085/1085 [==============================] - 17s 16ms/step - loss: 0.9024 - accuracy: 0.7092 - val_loss: 0.9730 - val_accuracy: 0.6795\n",
      "Epoch 51/75\n",
      "1085/1085 [==============================] - 17s 16ms/step - loss: 0.9023 - accuracy: 0.7055 - val_loss: 0.8601 - val_accuracy: 0.7184\n",
      "Epoch 52/75\n",
      "1085/1085 [==============================] - 17s 16ms/step - loss: 0.9042 - accuracy: 0.7039 - val_loss: 0.9012 - val_accuracy: 0.7109\n",
      "Epoch 53/75\n",
      "1085/1085 [==============================] - 17s 15ms/step - loss: 0.8827 - accuracy: 0.7173 - val_loss: 0.9161 - val_accuracy: 0.6987\n",
      "Epoch 54/75\n",
      "1085/1085 [==============================] - 17s 15ms/step - loss: 0.8851 - accuracy: 0.7178 - val_loss: 0.9532 - val_accuracy: 0.6882\n",
      "Epoch 55/75\n",
      "1085/1085 [==============================] - 17s 16ms/step - loss: 0.8619 - accuracy: 0.7253 - val_loss: 0.8861 - val_accuracy: 0.7196\n",
      "Epoch 56/75\n",
      "1085/1085 [==============================] - 17s 15ms/step - loss: 0.8940 - accuracy: 0.7134 - val_loss: 0.9169 - val_accuracy: 0.6950\n",
      "Epoch 57/75\n",
      "1085/1085 [==============================] - 17s 16ms/step - loss: 0.8722 - accuracy: 0.7177 - val_loss: 0.9873 - val_accuracy: 0.6702\n",
      "Epoch 58/75\n",
      "1085/1085 [==============================] - 17s 16ms/step - loss: 0.8736 - accuracy: 0.7213 - val_loss: 0.8933 - val_accuracy: 0.7015\n",
      "Epoch 59/75\n",
      "1085/1085 [==============================] - 17s 16ms/step - loss: 0.8633 - accuracy: 0.7212 - val_loss: 0.8862 - val_accuracy: 0.7151\n",
      "Epoch 60/75\n",
      "1085/1085 [==============================] - 17s 15ms/step - loss: 0.8724 - accuracy: 0.7205 - val_loss: 0.9106 - val_accuracy: 0.6978\n",
      "Epoch 61/75\n",
      "1085/1085 [==============================] - 17s 15ms/step - loss: 0.8563 - accuracy: 0.7255 - val_loss: 0.9213 - val_accuracy: 0.6994\n",
      "Epoch 62/75\n",
      "1085/1085 [==============================] - 17s 15ms/step - loss: 0.8514 - accuracy: 0.7295 - val_loss: 0.8997 - val_accuracy: 0.7123\n",
      "Epoch 63/75\n",
      "1085/1085 [==============================] - 17s 15ms/step - loss: 0.8380 - accuracy: 0.7352 - val_loss: 0.8470 - val_accuracy: 0.7261\n",
      "Epoch 64/75\n",
      "1085/1085 [==============================] - 17s 15ms/step - loss: 0.8357 - accuracy: 0.7329 - val_loss: 0.9163 - val_accuracy: 0.7020\n",
      "Epoch 65/75\n",
      "1085/1085 [==============================] - 17s 15ms/step - loss: 0.8547 - accuracy: 0.7244 - val_loss: 0.8963 - val_accuracy: 0.7065\n",
      "Epoch 66/75\n",
      "1085/1085 [==============================] - 17s 15ms/step - loss: 0.8293 - accuracy: 0.7353 - val_loss: 1.0706 - val_accuracy: 0.6660\n",
      "Epoch 67/75\n",
      "1085/1085 [==============================] - 17s 15ms/step - loss: 0.8303 - accuracy: 0.7376 - val_loss: 1.1169 - val_accuracy: 0.6372\n",
      "Epoch 68/75\n",
      "1085/1085 [==============================] - 17s 15ms/step - loss: 0.8301 - accuracy: 0.7365 - val_loss: 0.8620 - val_accuracy: 0.7235\n",
      "Epoch 69/75\n",
      "1085/1085 [==============================] - 17s 15ms/step - loss: 0.8324 - accuracy: 0.7383 - val_loss: 0.8620 - val_accuracy: 0.7243\n",
      "Epoch 70/75\n",
      "1085/1085 [==============================] - 17s 15ms/step - loss: 0.8229 - accuracy: 0.7405 - val_loss: 0.8057 - val_accuracy: 0.7367\n",
      "Epoch 71/75\n",
      "1085/1085 [==============================] - 16s 15ms/step - loss: 0.8108 - accuracy: 0.7422 - val_loss: 0.8629 - val_accuracy: 0.7172\n",
      "Epoch 72/75\n",
      "1085/1085 [==============================] - 16s 15ms/step - loss: 0.8161 - accuracy: 0.7412 - val_loss: 1.0070 - val_accuracy: 0.6770\n",
      "Epoch 73/75\n",
      "1085/1085 [==============================] - 16s 15ms/step - loss: 0.8388 - accuracy: 0.7339 - val_loss: 0.9069 - val_accuracy: 0.7109\n",
      "Epoch 74/75\n",
      "1085/1085 [==============================] - 16s 15ms/step - loss: 0.8158 - accuracy: 0.7381 - val_loss: 0.8831 - val_accuracy: 0.7193\n",
      "Epoch 75/75\n",
      "1085/1085 [==============================] - 16s 15ms/step - loss: 0.8244 - accuracy: 0.7375 - val_loss: 0.9135 - val_accuracy: 0.7102\n"
     ]
    },
    {
     "data": {
      "text/plain": [
       "<tensorflow.python.keras.callbacks.History at 0x7f179ccc4cc0>"
      ]
     },
     "execution_count": 40,
     "metadata": {
      "tags": []
     },
     "output_type": "execute_result"
    }
   ],
   "source": [
    "from tensorflow.keras import callbacks\n",
    "\n",
    "from tensorflow.keras.callbacks import ModelCheckpoint\n",
    "import datetime\n",
    "tf.keras.backend.clear_session()\n",
    "model2.compile(optimizer='RMSProp',loss='categorical_crossentropy',metrics=['accuracy'])\n",
    "model2.fit(X_train_spectrogram_aug,Y_tr,validation_data=(X_test_spectrogram_aug,Y_tst),verbose=1,steps_per_epoch=X_train_spectrogram_aug.shape[0]//8,epochs=75,batch_size=8,validation_steps=X_test_spectrogram_aug.shape[0]//8)"
   ]
  },
  {
   "cell_type": "code",
   "execution_count": 43,
   "metadata": {
    "colab": {
     "base_uri": "https://localhost:8080/",
     "height": 70
    },
    "colab_type": "code",
    "id": "I1v9d2QFJqGN",
    "outputId": "620eefa7-9b79-4c29-829c-ee4d80dd9b13"
   },
   "outputs": [
    {
     "name": "stdout",
     "output_type": "stream",
     "text": [
      "134/134 [==============================] - 1s 4ms/step - loss: 0.9127 - accuracy: 0.7105\n",
      "272/272 [==============================] - 1s 5ms/step - loss: 0.5098 - accuracy: 0.8464\n"
     ]
    },
    {
     "data": {
      "text/plain": [
       "[0.509787917137146, 0.8463664650917053]"
      ]
     },
     "execution_count": 43,
     "metadata": {
      "tags": []
     },
     "output_type": "execute_result"
    }
   ],
   "source": [
    "model2.evaluate(X_test_spectrogram_aug,Y_tst,verbose=1)\n",
    "model2.evaluate(X_train_spectrogram_aug,Y_tr,verbose=1)"
   ]
  },
  {
   "cell_type": "markdown",
   "metadata": {
    "colab_type": "text",
    "id": "yjpQvXDVKsbf"
   },
   "source": [
    "**Converting Spectogram data into Images**"
   ]
  },
  {
   "cell_type": "markdown",
   "metadata": {
    "colab_type": "text",
    "id": "d-Rmt3tPMETG"
   },
   "source": [
    "In the below example, we will see by plotting a spectogram data of an augmented data point. We are getting a slight blur plots since we have used data sugmentation techniques here"
   ]
  },
  {
   "cell_type": "code",
   "execution_count": null,
   "metadata": {
    "colab": {},
    "colab_type": "code",
    "id": "5A_FIlbNNRgT"
   },
   "outputs": [],
   "source": [
    "import matplotlib.pyplot as plt\n",
    "from tqdm import tqdm"
   ]
  },
  {
   "cell_type": "code",
   "execution_count": 22,
   "metadata": {
    "colab": {},
    "colab_type": "code",
    "id": "uHJX_ADFZYkP"
   },
   "outputs": [],
   "source": [
    "X_train_spectrogram=[]\n",
    "X_test_spectrogram=[]\n",
    "for i in range(0,len(X_train_processed)):\n",
    "  X_train_spectrogram.append(convert_to_spectrogram(X_train_processed.iloc[i,0]))\n",
    "for i in range(0,len(X_test_processed)):\n",
    "  X_test_spectrogram.append(convert_to_spectrogram(X_test_processed.iloc[i,0]))"
   ]
  },
  {
   "cell_type": "code",
   "execution_count": 98,
   "metadata": {
    "colab": {},
    "colab_type": "code",
    "id": "kBHOhTIzTuuz"
   },
   "outputs": [],
   "source": [
    "t=os.listdir('/content/drive/My Drive/Speech Emotion Recognition/Train_Spectogram_Images')\n",
    "for i in t:\n",
    "  os.remove('/content/drive/My Drive/Speech Emotion Recognition/Train_Spectogram_Images/'+i)"
   ]
  },
  {
   "cell_type": "code",
   "execution_count": 99,
   "metadata": {
    "colab": {},
    "colab_type": "code",
    "id": "fybaELjwZqlZ"
   },
   "outputs": [],
   "source": [
    "t=os.listdir('/content/drive/My Drive/Speech Emotion Recognition/Test_Spectogram_Images')\n",
    "for i in t:\n",
    "  os.remove('/content/drive/My Drive/Speech Emotion Recognition/Test_Spectogram_Images/'+i)"
   ]
  },
  {
   "cell_type": "code",
   "execution_count": null,
   "metadata": {
    "colab": {},
    "colab_type": "code",
    "id": "afy-rRo3K1tH"
   },
   "outputs": [],
   "source": [
    "from tqdm import tqdm\n",
    "for i in tqdm(range(0,len(X_train_spectrogram))):\n",
    "  plt.figure()\n",
    "  plt.specgram(X_train_spectrogram[i], Fs=sample_rate)\n",
    "  plt.axis('off')\n",
    "  plt.savefig('/content/drive/My Drive/Speech Emotion Recognition/Train_Spectogram_Images/train_spectrogram_{}'.format(i)+'.png',transparent=True,pad_inches=0.0,bbox_inches='tight')"
   ]
  },
  {
   "cell_type": "code",
   "execution_count": 101,
   "metadata": {
    "colab": {
     "base_uri": "https://localhost:8080/",
     "height": 1000
    },
    "colab_type": "code",
    "id": "Dl_ze2C8MLzn",
    "outputId": "5cd5b54e-9b4e-4299-e6d7-d7888115ac28"
   },
   "outputs": [
    {
     "name": "stderr",
     "output_type": "stream",
     "text": [
      "\n",
      "\n",
      "\n",
      "\n",
      "\n",
      "  0%|          | 0/432 [00:00<?, ?it/s]\u001b[A\u001b[A\u001b[A\u001b[A\u001b[A/usr/local/lib/python3.6/dist-packages/ipykernel_launcher.py:3: UserWarning: Only one segment is calculated since parameter NFFT (=256) >= signal length (=64).\n",
      "  This is separate from the ipykernel package so we can avoid doing imports until\n",
      "\n",
      "\n",
      "\n",
      "\n",
      "\n",
      "  0%|          | 2/432 [00:00<00:24, 17.35it/s]\u001b[A\u001b[A\u001b[A\u001b[A\u001b[A\n",
      "\n",
      "\n",
      "\n",
      "\n",
      "  1%|          | 4/432 [00:00<00:24, 17.66it/s]\u001b[A\u001b[A\u001b[A\u001b[A\u001b[A\n",
      "\n",
      "\n",
      "\n",
      "\n",
      "  1%|▏         | 6/432 [00:00<00:23, 18.22it/s]\u001b[A\u001b[A\u001b[A\u001b[A\u001b[A\n",
      "\n",
      "\n",
      "\n",
      "\n",
      "  2%|▏         | 8/432 [00:00<00:24, 17.11it/s]\u001b[A\u001b[A\u001b[A\u001b[A\u001b[A\n",
      "\n",
      "\n",
      "\n",
      "\n",
      "  2%|▏         | 10/432 [00:00<00:23, 17.68it/s]\u001b[A\u001b[A\u001b[A\u001b[A\u001b[A\n",
      "\n",
      "\n",
      "\n",
      "\n",
      "  3%|▎         | 12/432 [00:00<00:23, 18.07it/s]\u001b[A\u001b[A\u001b[A\u001b[A\u001b[A\n",
      "\n",
      "\n",
      "\n",
      "\n",
      "  3%|▎         | 14/432 [00:00<00:23, 17.92it/s]\u001b[A\u001b[A\u001b[A\u001b[A\u001b[A\n",
      "\n",
      "\n",
      "\n",
      "\n",
      "  4%|▎         | 16/432 [00:00<00:22, 18.40it/s]\u001b[A\u001b[A\u001b[A\u001b[A\u001b[A\n",
      "\n",
      "\n",
      "\n",
      "\n",
      "  4%|▍         | 18/432 [00:00<00:22, 18.77it/s]\u001b[A\u001b[A\u001b[A\u001b[A\u001b[A\n",
      "\n",
      "\n",
      "\n",
      "\n",
      "  5%|▍         | 20/432 [00:01<00:21, 19.01it/s]\u001b[A\u001b[A\u001b[A\u001b[A\u001b[A\n",
      "\n",
      "\n",
      "\n",
      "\n",
      "  5%|▌         | 22/432 [00:01<00:22, 18.43it/s]\u001b[A\u001b[A\u001b[A\u001b[A\u001b[A\n",
      "\n",
      "\n",
      "\n",
      "\n",
      "  6%|▌         | 24/432 [00:01<00:21, 18.72it/s]\u001b[A\u001b[A\u001b[A\u001b[A\u001b[A\n",
      "\n",
      "\n",
      "\n",
      "\n",
      "  6%|▌         | 26/432 [00:01<00:26, 15.09it/s]\u001b[A\u001b[A\u001b[A\u001b[A\u001b[A\n",
      "\n",
      "\n",
      "\n",
      "\n",
      "  6%|▋         | 28/432 [00:01<00:24, 16.21it/s]\u001b[A\u001b[A\u001b[A\u001b[A\u001b[A\n",
      "\n",
      "\n",
      "\n",
      "\n",
      "  7%|▋         | 30/432 [00:01<00:23, 16.94it/s]\u001b[A\u001b[A\u001b[A\u001b[A\u001b[A\n",
      "\n",
      "\n",
      "\n",
      "\n",
      "  7%|▋         | 32/432 [00:01<00:22, 17.73it/s]\u001b[A\u001b[A\u001b[A\u001b[A\u001b[A\n",
      "\n",
      "\n",
      "\n",
      "\n",
      "  8%|▊         | 34/432 [00:01<00:21, 18.25it/s]\u001b[A\u001b[A\u001b[A\u001b[A\u001b[A\n",
      "\n",
      "\n",
      "\n",
      "\n",
      "  8%|▊         | 36/432 [00:02<00:21, 18.70it/s]\u001b[A\u001b[A\u001b[A\u001b[A\u001b[A\n",
      "\n",
      "\n",
      "\n",
      "\n",
      "  9%|▉         | 38/432 [00:02<00:21, 18.73it/s]\u001b[A\u001b[A\u001b[A\u001b[A\u001b[A\n",
      "\n",
      "\n",
      "\n",
      "\n",
      "  9%|▉         | 40/432 [00:02<00:21, 18.03it/s]\u001b[A\u001b[A\u001b[A\u001b[A\u001b[A\n",
      "\n",
      "\n",
      "\n",
      "\n",
      " 10%|▉         | 42/432 [00:02<00:29, 13.12it/s]\u001b[A\u001b[A\u001b[A\u001b[A\u001b[A\n",
      "\n",
      "\n",
      "\n",
      "\n",
      " 10%|█         | 44/432 [00:02<00:26, 14.39it/s]\u001b[A\u001b[A\u001b[A\u001b[A\u001b[A\n",
      "\n",
      "\n",
      "\n",
      "\n",
      " 11%|█         | 46/432 [00:02<00:24, 15.47it/s]\u001b[A\u001b[A\u001b[A\u001b[A\u001b[A\n",
      "\n",
      "\n",
      "\n",
      "\n",
      " 11%|█         | 48/432 [00:02<00:23, 16.50it/s]\u001b[A\u001b[A\u001b[A\u001b[A\u001b[A\n",
      "\n",
      "\n",
      "\n",
      "\n",
      " 12%|█▏        | 50/432 [00:02<00:21, 17.39it/s]\u001b[A\u001b[A\u001b[A\u001b[A\u001b[A\n",
      "\n",
      "\n",
      "\n",
      "\n",
      " 12%|█▏        | 52/432 [00:03<00:21, 18.06it/s]\u001b[A\u001b[A\u001b[A\u001b[A\u001b[A\n",
      "\n",
      "\n",
      "\n",
      "\n",
      " 12%|█▎        | 54/432 [00:03<00:20, 18.59it/s]\u001b[A\u001b[A\u001b[A\u001b[A\u001b[A\n",
      "\n",
      "\n",
      "\n",
      "\n",
      " 13%|█▎        | 56/432 [00:03<00:20, 18.72it/s]\u001b[A\u001b[A\u001b[A\u001b[A\u001b[A\n",
      "\n",
      "\n",
      "\n",
      "\n",
      " 13%|█▎        | 58/432 [00:03<00:19, 18.80it/s]\u001b[A\u001b[A\u001b[A\u001b[A\u001b[A\n",
      "\n",
      "\n",
      "\n",
      "\n",
      " 14%|█▍        | 60/432 [00:03<00:27, 13.76it/s]\u001b[A\u001b[A\u001b[A\u001b[A\u001b[A\n",
      "\n",
      "\n",
      "\n",
      "\n",
      " 14%|█▍        | 62/432 [00:03<00:24, 15.02it/s]\u001b[A\u001b[A\u001b[A\u001b[A\u001b[A\n",
      "\n",
      "\n",
      "\n",
      "\n",
      " 15%|█▍        | 64/432 [00:03<00:23, 15.99it/s]\u001b[A\u001b[A\u001b[A\u001b[A\u001b[A\n",
      "\n",
      "\n",
      "\n",
      "\n",
      " 15%|█▌        | 66/432 [00:03<00:21, 16.97it/s]\u001b[A\u001b[A\u001b[A\u001b[A\u001b[A\n",
      "\n",
      "\n",
      "\n",
      "\n",
      " 16%|█▌        | 68/432 [00:03<00:20, 17.64it/s]\u001b[A\u001b[A\u001b[A\u001b[A\u001b[A\n",
      "\n",
      "\n",
      "\n",
      "\n",
      " 16%|█▌        | 70/432 [00:04<00:19, 18.19it/s]\u001b[A\u001b[A\u001b[A\u001b[A\u001b[A\n",
      "\n",
      "\n",
      "\n",
      "\n",
      " 17%|█▋        | 72/432 [00:04<00:19, 18.56it/s]\u001b[A\u001b[A\u001b[A\u001b[A\u001b[A\n",
      "\n",
      "\n",
      "\n",
      "\n",
      " 17%|█▋        | 74/432 [00:04<00:19, 18.45it/s]\u001b[A\u001b[A\u001b[A\u001b[A\u001b[A\n",
      "\n",
      "\n",
      "\n",
      "\n",
      " 18%|█▊        | 76/432 [00:04<00:18, 18.82it/s]\u001b[A\u001b[A\u001b[A\u001b[A\u001b[A\n",
      "\n",
      "\n",
      "\n",
      "\n",
      " 18%|█▊        | 78/432 [00:04<00:25, 13.83it/s]\u001b[A\u001b[A\u001b[A\u001b[A\u001b[A\n",
      "\n",
      "\n",
      "\n",
      "\n",
      " 19%|█▊        | 80/432 [00:04<00:23, 14.98it/s]\u001b[A\u001b[A\u001b[A\u001b[A\u001b[A\n",
      "\n",
      "\n",
      "\n",
      "\n",
      " 19%|█▉        | 82/432 [00:04<00:21, 16.15it/s]\u001b[A\u001b[A\u001b[A\u001b[A\u001b[A\n",
      "\n",
      "\n",
      "\n",
      "\n",
      " 19%|█▉        | 84/432 [00:04<00:20, 16.81it/s]\u001b[A\u001b[A\u001b[A\u001b[A\u001b[A\n",
      "\n",
      "\n",
      "\n",
      "\n",
      " 20%|█▉        | 86/432 [00:05<00:19, 17.55it/s]\u001b[A\u001b[A\u001b[A\u001b[A\u001b[A\n",
      "\n",
      "\n",
      "\n",
      "\n",
      " 20%|██        | 88/432 [00:05<00:19, 17.69it/s]\u001b[A\u001b[A\u001b[A\u001b[A\u001b[A\n",
      "\n",
      "\n",
      "\n",
      "\n",
      " 21%|██        | 90/432 [00:05<00:18, 18.28it/s]\u001b[A\u001b[A\u001b[A\u001b[A\u001b[A\n",
      "\n",
      "\n",
      "\n",
      "\n",
      " 21%|██▏       | 92/432 [00:05<00:18, 18.34it/s]\u001b[A\u001b[A\u001b[A\u001b[A\u001b[A\n",
      "\n",
      "\n",
      "\n",
      "\n",
      " 22%|██▏       | 94/432 [00:05<00:18, 18.67it/s]\u001b[A\u001b[A\u001b[A\u001b[A\u001b[A\n",
      "\n",
      "\n",
      "\n",
      "\n",
      " 22%|██▏       | 96/432 [00:05<00:24, 13.59it/s]\u001b[A\u001b[A\u001b[A\u001b[A\u001b[A\n",
      "\n",
      "\n",
      "\n",
      "\n",
      " 23%|██▎       | 98/432 [00:05<00:22, 14.79it/s]\u001b[A\u001b[A\u001b[A\u001b[A\u001b[A\n",
      "\n",
      "\n",
      "\n",
      "\n",
      " 23%|██▎       | 100/432 [00:05<00:20, 16.01it/s]\u001b[A\u001b[A\u001b[A\u001b[A\u001b[A\n",
      "\n",
      "\n",
      "\n",
      "\n",
      " 24%|██▎       | 102/432 [00:06<00:19, 16.86it/s]\u001b[A\u001b[A\u001b[A\u001b[A\u001b[A\n",
      "\n",
      "\n",
      "\n",
      "\n",
      " 24%|██▍       | 104/432 [00:06<00:18, 17.48it/s]\u001b[A\u001b[A\u001b[A\u001b[A\u001b[A\n",
      "\n",
      "\n",
      "\n",
      "\n",
      " 25%|██▍       | 106/432 [00:06<00:17, 18.11it/s]\u001b[A\u001b[A\u001b[A\u001b[A\u001b[A\n",
      "\n",
      "\n",
      "\n",
      "\n",
      " 25%|██▌       | 108/432 [00:06<00:18, 17.18it/s]\u001b[A\u001b[A\u001b[A\u001b[A\u001b[A\n",
      "\n",
      "\n",
      "\n",
      "\n",
      " 25%|██▌       | 110/432 [00:06<00:18, 17.76it/s]\u001b[A\u001b[A\u001b[A\u001b[A\u001b[A\n",
      "\n",
      "\n",
      "\n",
      "\n",
      " 26%|██▌       | 112/432 [00:06<00:24, 13.32it/s]\u001b[A\u001b[A\u001b[A\u001b[A\u001b[A\n",
      "\n",
      "\n",
      "\n",
      "\n",
      " 26%|██▋       | 114/432 [00:06<00:21, 14.58it/s]\u001b[A\u001b[A\u001b[A\u001b[A\u001b[A\n",
      "\n",
      "\n",
      "\n",
      "\n",
      " 27%|██▋       | 116/432 [00:06<00:20, 15.71it/s]\u001b[A\u001b[A\u001b[A\u001b[A\u001b[A\n",
      "\n",
      "\n",
      "\n",
      "\n",
      " 27%|██▋       | 118/432 [00:07<00:18, 16.69it/s]\u001b[A\u001b[A\u001b[A\u001b[A\u001b[A\n",
      "\n",
      "\n",
      "\n",
      "\n",
      " 28%|██▊       | 120/432 [00:07<00:17, 17.48it/s]\u001b[A\u001b[A\u001b[A\u001b[A\u001b[A\n",
      "\n",
      "\n",
      "\n",
      "\n",
      " 28%|██▊       | 122/432 [00:07<00:17, 18.07it/s]\u001b[A\u001b[A\u001b[A\u001b[A\u001b[A\n",
      "\n",
      "\n",
      "\n",
      "\n",
      " 29%|██▊       | 124/432 [00:07<00:17, 18.08it/s]\u001b[A\u001b[A\u001b[A\u001b[A\u001b[A\n",
      "\n",
      "\n",
      "\n",
      "\n",
      " 29%|██▉       | 126/432 [00:07<00:16, 18.26it/s]\u001b[A\u001b[A\u001b[A\u001b[A\u001b[A\n",
      "\n",
      "\n",
      "\n",
      "\n",
      " 30%|██▉       | 128/432 [00:07<00:16, 18.42it/s]\u001b[A\u001b[A\u001b[A\u001b[A\u001b[A\n",
      "\n",
      "\n",
      "\n",
      "\n",
      " 30%|███       | 130/432 [00:07<00:22, 13.53it/s]\u001b[A\u001b[A\u001b[A\u001b[A\u001b[A\n",
      "\n",
      "\n",
      "\n",
      "\n",
      " 31%|███       | 132/432 [00:07<00:20, 14.80it/s]\u001b[A\u001b[A\u001b[A\u001b[A\u001b[A\n",
      "\n",
      "\n",
      "\n",
      "\n",
      " 31%|███       | 134/432 [00:07<00:19, 15.58it/s]\u001b[A\u001b[A\u001b[A\u001b[A\u001b[A\n",
      "\n",
      "\n",
      "\n",
      "\n",
      " 31%|███▏      | 136/432 [00:08<00:17, 16.48it/s]\u001b[A\u001b[A\u001b[A\u001b[A\u001b[A\n",
      "\n",
      "\n",
      "\n",
      "\n",
      " 32%|███▏      | 138/432 [00:08<00:17, 17.24it/s]\u001b[A\u001b[A\u001b[A\u001b[A\u001b[A\n",
      "\n",
      "\n",
      "\n",
      "\n",
      " 32%|███▏      | 140/432 [00:08<00:16, 17.77it/s]\u001b[A\u001b[A\u001b[A\u001b[A\u001b[A\n",
      "\n",
      "\n",
      "\n",
      "\n",
      " 33%|███▎      | 142/432 [00:08<00:16, 17.81it/s]\u001b[A\u001b[A\u001b[A\u001b[A\u001b[A\n",
      "\n",
      "\n",
      "\n",
      "\n",
      " 33%|███▎      | 144/432 [00:08<00:15, 18.27it/s]\u001b[A\u001b[A\u001b[A\u001b[A\u001b[A\n",
      "\n",
      "\n",
      "\n",
      "\n",
      " 34%|███▍      | 146/432 [00:08<00:15, 18.58it/s]\u001b[A\u001b[A\u001b[A\u001b[A\u001b[A\n",
      "\n",
      "\n",
      "\n",
      "\n",
      " 34%|███▍      | 148/432 [00:08<00:21, 13.37it/s]\u001b[A\u001b[A\u001b[A\u001b[A\u001b[A\n",
      "\n",
      "\n",
      "\n",
      "\n",
      " 35%|███▍      | 150/432 [00:08<00:19, 14.71it/s]\u001b[A\u001b[A\u001b[A\u001b[A\u001b[A\n",
      "\n",
      "\n",
      "\n",
      "\n",
      " 35%|███▌      | 152/432 [00:09<00:17, 15.64it/s]\u001b[A\u001b[A\u001b[A\u001b[A\u001b[A\n",
      "\n",
      "\n",
      "\n",
      "\n",
      " 36%|███▌      | 154/432 [00:09<00:16, 16.59it/s]\u001b[A\u001b[A\u001b[A\u001b[A\u001b[A\n",
      "\n",
      "\n",
      "\n",
      "\n",
      " 36%|███▌      | 156/432 [00:09<00:15, 17.40it/s]\u001b[A\u001b[A\u001b[A\u001b[A\u001b[A\n",
      "\n",
      "\n",
      "\n",
      "\n",
      " 37%|███▋      | 158/432 [00:09<00:15, 17.66it/s]\u001b[A\u001b[A\u001b[A\u001b[A\u001b[A\n",
      "\n",
      "\n",
      "\n",
      "\n",
      " 37%|███▋      | 160/432 [00:09<00:15, 17.09it/s]\u001b[A\u001b[A\u001b[A\u001b[A\u001b[A\n",
      "\n",
      "\n",
      "\n",
      "\n",
      " 38%|███▊      | 162/432 [00:09<00:15, 17.38it/s]\u001b[A\u001b[A\u001b[A\u001b[A\u001b[A\n",
      "\n",
      "\n",
      "\n",
      "\n",
      " 38%|███▊      | 164/432 [00:09<00:15, 17.80it/s]\u001b[A\u001b[A\u001b[A\u001b[A\u001b[A\n",
      "\n",
      "\n",
      "\n",
      "\n",
      " 38%|███▊      | 166/432 [00:09<00:20, 13.17it/s]\u001b[A\u001b[A\u001b[A\u001b[A\u001b[A\n",
      "\n",
      "\n",
      "\n",
      "\n",
      " 39%|███▉      | 168/432 [00:10<00:18, 14.15it/s]\u001b[A\u001b[A\u001b[A\u001b[A\u001b[A\n",
      "\n",
      "\n",
      "\n",
      "\n",
      " 39%|███▉      | 170/432 [00:10<00:17, 15.39it/s]\u001b[A\u001b[A\u001b[A\u001b[A\u001b[A\n",
      "\n",
      "\n",
      "\n",
      "\n",
      " 40%|███▉      | 172/432 [00:10<00:15, 16.47it/s]\u001b[A\u001b[A\u001b[A\u001b[A\u001b[A\n",
      "\n",
      "\n",
      "\n",
      "\n",
      " 40%|████      | 174/432 [00:10<00:15, 16.35it/s]\u001b[A\u001b[A\u001b[A\u001b[A\u001b[A\n",
      "\n",
      "\n",
      "\n",
      "\n",
      " 41%|████      | 176/432 [00:10<00:15, 16.93it/s]\u001b[A\u001b[A\u001b[A\u001b[A\u001b[A\n",
      "\n",
      "\n",
      "\n",
      "\n",
      " 41%|████      | 178/432 [00:10<00:14, 17.58it/s]\u001b[A\u001b[A\u001b[A\u001b[A\u001b[A\n",
      "\n",
      "\n",
      "\n",
      "\n",
      " 42%|████▏     | 180/432 [00:10<00:14, 17.97it/s]\u001b[A\u001b[A\u001b[A\u001b[A\u001b[A\n",
      "\n",
      "\n",
      "\n",
      "\n",
      " 42%|████▏     | 182/432 [00:10<00:13, 18.10it/s]\u001b[A\u001b[A\u001b[A\u001b[A\u001b[A\n",
      "\n",
      "\n",
      "\n",
      "\n",
      " 43%|████▎     | 184/432 [00:11<00:16, 14.79it/s]\u001b[A\u001b[A\u001b[A\u001b[A\u001b[A\n",
      "\n",
      "\n",
      "\n",
      "\n",
      " 43%|████▎     | 186/432 [00:11<00:15, 15.68it/s]\u001b[A\u001b[A\u001b[A\u001b[A\u001b[A\n",
      "\n",
      "\n",
      "\n",
      "\n",
      " 44%|████▎     | 188/432 [00:11<00:14, 16.70it/s]\u001b[A\u001b[A\u001b[A\u001b[A\u001b[A\n",
      "\n",
      "\n",
      "\n",
      "\n",
      " 44%|████▍     | 190/432 [00:11<00:14, 17.13it/s]\u001b[A\u001b[A\u001b[A\u001b[A\u001b[A\n",
      "\n",
      "\n",
      "\n",
      "\n",
      " 44%|████▍     | 192/432 [00:11<00:13, 17.18it/s]\u001b[A\u001b[A\u001b[A\u001b[A\u001b[A\n",
      "\n",
      "\n",
      "\n",
      "\n",
      " 45%|████▍     | 194/432 [00:11<00:13, 17.79it/s]\u001b[A\u001b[A\u001b[A\u001b[A\u001b[A\n",
      "\n",
      "\n",
      "\n",
      "\n",
      " 45%|████▌     | 196/432 [00:11<00:12, 18.28it/s]\u001b[A\u001b[A\u001b[A\u001b[A\u001b[A\n",
      "\n",
      "\n",
      "\n",
      "\n",
      " 46%|████▌     | 198/432 [00:11<00:12, 18.40it/s]\u001b[A\u001b[A\u001b[A\u001b[A\u001b[A\n",
      "\n",
      "\n",
      "\n",
      "\n",
      " 46%|████▋     | 200/432 [00:12<00:17, 13.54it/s]\u001b[A\u001b[A\u001b[A\u001b[A\u001b[A\n",
      "\n",
      "\n",
      "\n",
      "\n",
      " 47%|████▋     | 202/432 [00:12<00:15, 14.69it/s]\u001b[A\u001b[A\u001b[A\u001b[A\u001b[A\n",
      "\n",
      "\n",
      "\n",
      "\n",
      " 47%|████▋     | 204/432 [00:12<00:14, 15.88it/s]\u001b[A\u001b[A\u001b[A\u001b[A\u001b[A\n",
      "\n",
      "\n",
      "\n",
      "\n",
      " 48%|████▊     | 206/432 [00:12<00:13, 16.75it/s]\u001b[A\u001b[A\u001b[A\u001b[A\u001b[A\n",
      "\n",
      "\n",
      "\n",
      "\n",
      " 48%|████▊     | 208/432 [00:12<00:13, 17.03it/s]\u001b[A\u001b[A\u001b[A\u001b[A\u001b[A\n",
      "\n",
      "\n",
      "\n",
      "\n",
      " 49%|████▊     | 210/432 [00:12<00:12, 17.58it/s]\u001b[A\u001b[A\u001b[A\u001b[A\u001b[A\n",
      "\n",
      "\n",
      "\n",
      "\n",
      " 49%|████▉     | 212/432 [00:12<00:12, 18.09it/s]\u001b[A\u001b[A\u001b[A\u001b[A\u001b[A\n",
      "\n",
      "\n",
      "\n",
      "\n",
      " 50%|████▉     | 214/432 [00:12<00:11, 18.52it/s]\u001b[A\u001b[A\u001b[A\u001b[A\u001b[A\n",
      "\n",
      "\n",
      "\n",
      "\n",
      " 50%|█████     | 216/432 [00:12<00:11, 18.40it/s]\u001b[A\u001b[A\u001b[A\u001b[A\u001b[A\n",
      "\n",
      "\n",
      "\n",
      "\n",
      " 50%|█████     | 218/432 [00:13<00:15, 13.56it/s]\u001b[A\u001b[A\u001b[A\u001b[A\u001b[A\n",
      "\n",
      "\n",
      "\n",
      "\n",
      " 51%|█████     | 220/432 [00:13<00:14, 14.92it/s]\u001b[A\u001b[A\u001b[A\u001b[A\u001b[A\n",
      "\n",
      "\n",
      "\n",
      "\n",
      " 51%|█████▏    | 222/432 [00:13<00:13, 15.89it/s]\u001b[A\u001b[A\u001b[A\u001b[A\u001b[A\n",
      "\n",
      "\n",
      "\n",
      "\n",
      " 52%|█████▏    | 224/432 [00:13<00:12, 16.71it/s]\u001b[A\u001b[A\u001b[A\u001b[A\u001b[A\n",
      "\n",
      "\n",
      "\n",
      "\n",
      " 52%|█████▏    | 226/432 [00:13<00:11, 17.26it/s]\u001b[A\u001b[A\u001b[A\u001b[A\u001b[A\n",
      "\n",
      "\n",
      "\n",
      "\n",
      " 53%|█████▎    | 228/432 [00:13<00:12, 16.54it/s]\u001b[A\u001b[A\u001b[A\u001b[A\u001b[A\n",
      "\n",
      "\n",
      "\n",
      "\n",
      " 53%|█████▎    | 230/432 [00:13<00:11, 17.02it/s]\u001b[A\u001b[A\u001b[A\u001b[A\u001b[A\n",
      "\n",
      "\n",
      "\n",
      "\n",
      " 54%|█████▎    | 232/432 [00:13<00:11, 17.45it/s]\u001b[A\u001b[A\u001b[A\u001b[A\u001b[A\n",
      "\n",
      "\n",
      "\n",
      "\n",
      " 54%|█████▍    | 234/432 [00:14<00:13, 14.27it/s]\u001b[A\u001b[A\u001b[A\u001b[A\u001b[A\n",
      "\n",
      "\n",
      "\n",
      "\n",
      " 55%|█████▍    | 236/432 [00:14<00:12, 15.30it/s]\u001b[A\u001b[A\u001b[A\u001b[A\u001b[A\n",
      "\n",
      "\n",
      "\n",
      "\n",
      " 55%|█████▌    | 238/432 [00:14<00:11, 16.30it/s]\u001b[A\u001b[A\u001b[A\u001b[A\u001b[A\n",
      "\n",
      "\n",
      "\n",
      "\n",
      " 56%|█████▌    | 240/432 [00:14<00:11, 17.08it/s]\u001b[A\u001b[A\u001b[A\u001b[A\u001b[A\n",
      "\n",
      "\n",
      "\n",
      "\n",
      " 56%|█████▌    | 242/432 [00:14<00:11, 17.19it/s]\u001b[A\u001b[A\u001b[A\u001b[A\u001b[A\n",
      "\n",
      "\n",
      "\n",
      "\n",
      " 56%|█████▋    | 244/432 [00:14<00:10, 17.85it/s]\u001b[A\u001b[A\u001b[A\u001b[A\u001b[A\n",
      "\n",
      "\n",
      "\n",
      "\n",
      " 57%|█████▋    | 246/432 [00:14<00:10, 18.33it/s]\u001b[A\u001b[A\u001b[A\u001b[A\u001b[A\n",
      "\n",
      "\n",
      "\n",
      "\n",
      " 57%|█████▋    | 248/432 [00:14<00:10, 18.30it/s]\u001b[A\u001b[A\u001b[A\u001b[A\u001b[A\n",
      "\n",
      "\n",
      "\n",
      "\n",
      " 58%|█████▊    | 250/432 [00:14<00:09, 18.28it/s]\u001b[A\u001b[A\u001b[A\u001b[A\u001b[A\n",
      "\n",
      "\n",
      "\n",
      "\n",
      " 58%|█████▊    | 252/432 [00:15<00:13, 13.24it/s]\u001b[A\u001b[A\u001b[A\u001b[A\u001b[A\n",
      "\n",
      "\n",
      "\n",
      "\n",
      " 59%|█████▉    | 254/432 [00:15<00:12, 14.10it/s]\u001b[A\u001b[A\u001b[A\u001b[A\u001b[A\n",
      "\n",
      "\n",
      "\n",
      "\n",
      " 59%|█████▉    | 256/432 [00:15<00:11, 15.23it/s]\u001b[A\u001b[A\u001b[A\u001b[A\u001b[A\n",
      "\n",
      "\n",
      "\n",
      "\n",
      " 60%|█████▉    | 258/432 [00:15<00:10, 15.98it/s]\u001b[A\u001b[A\u001b[A\u001b[A\u001b[A\n",
      "\n",
      "\n",
      "\n",
      "\n",
      " 60%|██████    | 260/432 [00:15<00:10, 16.59it/s]\u001b[A\u001b[A\u001b[A\u001b[A\u001b[A\n",
      "\n",
      "\n",
      "\n",
      "\n",
      " 61%|██████    | 262/432 [00:15<00:09, 17.37it/s]\u001b[A\u001b[A\u001b[A\u001b[A\u001b[A\n",
      "\n",
      "\n",
      "\n",
      "\n",
      " 61%|██████    | 264/432 [00:15<00:09, 17.76it/s]\u001b[A\u001b[A\u001b[A\u001b[A\u001b[A\n",
      "\n",
      "\n",
      "\n",
      "\n",
      " 62%|██████▏   | 266/432 [00:15<00:09, 18.16it/s]\u001b[A\u001b[A\u001b[A\u001b[A\u001b[A\n",
      "\n",
      "\n",
      "\n",
      "\n",
      " 62%|██████▏   | 268/432 [00:16<00:12, 13.51it/s]\u001b[A\u001b[A\u001b[A\u001b[A\u001b[A\n",
      "\n",
      "\n",
      "\n",
      "\n",
      " 62%|██████▎   | 270/432 [00:16<00:10, 14.77it/s]\u001b[A\u001b[A\u001b[A\u001b[A\u001b[A\n",
      "\n",
      "\n",
      "\n",
      "\n",
      " 63%|██████▎   | 272/432 [00:16<00:10, 15.33it/s]\u001b[A\u001b[A\u001b[A\u001b[A\u001b[A\n",
      "\n",
      "\n",
      "\n",
      "\n",
      " 63%|██████▎   | 274/432 [00:16<00:09, 16.14it/s]\u001b[A\u001b[A\u001b[A\u001b[A\u001b[A\n",
      "\n",
      "\n",
      "\n",
      "\n",
      " 64%|██████▍   | 276/432 [00:16<00:09, 16.87it/s]\u001b[A\u001b[A\u001b[A\u001b[A\u001b[A\n",
      "\n",
      "\n",
      "\n",
      "\n",
      " 64%|██████▍   | 278/432 [00:16<00:08, 17.62it/s]\u001b[A\u001b[A\u001b[A\u001b[A\u001b[A\n",
      "\n",
      "\n",
      "\n",
      "\n",
      " 65%|██████▍   | 280/432 [00:16<00:08, 18.15it/s]\u001b[A\u001b[A\u001b[A\u001b[A\u001b[A\n",
      "\n",
      "\n",
      "\n",
      "\n",
      " 65%|██████▌   | 282/432 [00:16<00:08, 18.35it/s]\u001b[A\u001b[A\u001b[A\u001b[A\u001b[A\n",
      "\n",
      "\n",
      "\n",
      "\n",
      " 66%|██████▌   | 284/432 [00:17<00:07, 18.58it/s]\u001b[A\u001b[A\u001b[A\u001b[A\u001b[A\n",
      "\n",
      "\n",
      "\n",
      "\n",
      " 66%|██████▌   | 286/432 [00:19<00:53,  2.75it/s]\u001b[A\u001b[A\u001b[A\u001b[A\u001b[A\n",
      "\n",
      "\n",
      "\n",
      "\n",
      " 67%|██████▋   | 288/432 [00:19<00:38,  3.69it/s]\u001b[A\u001b[A\u001b[A\u001b[A\u001b[A\n",
      "\n",
      "\n",
      "\n",
      "\n",
      " 67%|██████▋   | 290/432 [00:19<00:29,  4.87it/s]\u001b[A\u001b[A\u001b[A\u001b[A\u001b[A\n",
      "\n",
      "\n",
      "\n",
      "\n",
      " 68%|██████▊   | 292/432 [00:19<00:22,  6.29it/s]\u001b[A\u001b[A\u001b[A\u001b[A\u001b[A\n",
      "\n",
      "\n",
      "\n",
      "\n",
      " 68%|██████▊   | 294/432 [00:19<00:17,  7.78it/s]\u001b[A\u001b[A\u001b[A\u001b[A\u001b[A\n",
      "\n",
      "\n",
      "\n",
      "\n",
      " 69%|██████▊   | 296/432 [00:19<00:14,  9.34it/s]\u001b[A\u001b[A\u001b[A\u001b[A\u001b[A\n",
      "\n",
      "\n",
      "\n",
      "\n",
      " 69%|██████▉   | 298/432 [00:19<00:12, 10.97it/s]\u001b[A\u001b[A\u001b[A\u001b[A\u001b[A\n",
      "\n",
      "\n",
      "\n",
      "\n",
      " 69%|██████▉   | 300/432 [00:19<00:10, 12.31it/s]\u001b[A\u001b[A\u001b[A\u001b[A\u001b[A\n",
      "\n",
      "\n",
      "\n",
      "\n",
      " 70%|██████▉   | 302/432 [00:20<00:12, 10.61it/s]\u001b[A\u001b[A\u001b[A\u001b[A\u001b[A\n",
      "\n",
      "\n",
      "\n",
      "\n",
      " 70%|███████   | 304/432 [00:20<00:11, 11.46it/s]\u001b[A\u001b[A\u001b[A\u001b[A\u001b[A\n",
      "\n",
      "\n",
      "\n",
      "\n",
      " 71%|███████   | 306/432 [00:20<00:09, 12.88it/s]\u001b[A\u001b[A\u001b[A\u001b[A\u001b[A\n",
      "\n",
      "\n",
      "\n",
      "\n",
      " 71%|███████▏  | 308/432 [00:20<00:08, 14.04it/s]\u001b[A\u001b[A\u001b[A\u001b[A\u001b[A\n",
      "\n",
      "\n",
      "\n",
      "\n",
      " 72%|███████▏  | 310/432 [00:20<00:08, 15.21it/s]\u001b[A\u001b[A\u001b[A\u001b[A\u001b[A\n",
      "\n",
      "\n",
      "\n",
      "\n",
      " 72%|███████▏  | 312/432 [00:20<00:07, 16.20it/s]\u001b[A\u001b[A\u001b[A\u001b[A\u001b[A\n",
      "\n",
      "\n",
      "\n",
      "\n",
      " 73%|███████▎  | 314/432 [00:20<00:07, 16.61it/s]\u001b[A\u001b[A\u001b[A\u001b[A\u001b[A\n",
      "\n",
      "\n",
      "\n",
      "\n",
      " 73%|███████▎  | 316/432 [00:21<00:06, 17.20it/s]\u001b[A\u001b[A\u001b[A\u001b[A\u001b[A\n",
      "\n",
      "\n",
      "\n",
      "\n",
      " 74%|███████▎  | 318/432 [00:21<00:06, 17.67it/s]\u001b[A\u001b[A\u001b[A\u001b[A\u001b[A\n",
      "\n",
      "\n",
      "\n",
      "\n",
      " 74%|███████▍  | 320/432 [00:21<00:07, 14.15it/s]\u001b[A\u001b[A\u001b[A\u001b[A\u001b[A\n",
      "\n",
      "\n",
      "\n",
      "\n",
      " 75%|███████▍  | 322/432 [00:21<00:07, 15.24it/s]\u001b[A\u001b[A\u001b[A\u001b[A\u001b[A\n",
      "\n",
      "\n",
      "\n",
      "\n",
      " 75%|███████▌  | 324/432 [00:21<00:06, 16.34it/s]\u001b[A\u001b[A\u001b[A\u001b[A\u001b[A\n",
      "\n",
      "\n",
      "\n",
      "\n",
      " 75%|███████▌  | 326/432 [00:21<00:06, 16.92it/s]\u001b[A\u001b[A\u001b[A\u001b[A\u001b[A\n",
      "\n",
      "\n",
      "\n",
      "\n",
      " 76%|███████▌  | 328/432 [00:21<00:06, 17.24it/s]\u001b[A\u001b[A\u001b[A\u001b[A\u001b[A\n",
      "\n",
      "\n",
      "\n",
      "\n",
      " 76%|███████▋  | 330/432 [00:21<00:05, 17.74it/s]\u001b[A\u001b[A\u001b[A\u001b[A\u001b[A\n",
      "\n",
      "\n",
      "\n",
      "\n",
      " 77%|███████▋  | 332/432 [00:22<00:05, 17.06it/s]\u001b[A\u001b[A\u001b[A\u001b[A\u001b[A\n",
      "\n",
      "\n",
      "\n",
      "\n",
      " 77%|███████▋  | 334/432 [00:22<00:05, 17.42it/s]\u001b[A\u001b[A\u001b[A\u001b[A\u001b[A\n",
      "\n",
      "\n",
      "\n",
      "\n",
      " 78%|███████▊  | 336/432 [00:22<00:05, 18.00it/s]\u001b[A\u001b[A\u001b[A\u001b[A\u001b[A\n",
      "\n",
      "\n",
      "\n",
      "\n",
      " 78%|███████▊  | 338/432 [00:22<00:06, 14.54it/s]\u001b[A\u001b[A\u001b[A\u001b[A\u001b[A\n",
      "\n",
      "\n",
      "\n",
      "\n",
      " 79%|███████▊  | 340/432 [00:22<00:07, 12.25it/s]\u001b[A\u001b[A\u001b[A\u001b[A\u001b[A\n",
      "\n",
      "\n",
      "\n",
      "\n",
      " 79%|███████▉  | 342/432 [00:22<00:06, 13.71it/s]\u001b[A\u001b[A\u001b[A\u001b[A\u001b[A\n",
      "\n",
      "\n",
      "\n",
      "\n",
      " 80%|███████▉  | 344/432 [00:22<00:05, 14.97it/s]\u001b[A\u001b[A\u001b[A\u001b[A\u001b[A\n",
      "\n",
      "\n",
      "\n",
      "\n",
      " 80%|████████  | 346/432 [00:23<00:08, 10.50it/s]\u001b[A\u001b[A\u001b[A\u001b[A\u001b[A\n",
      "\n",
      "\n",
      "\n",
      "\n",
      " 81%|████████  | 348/432 [00:23<00:06, 12.20it/s]\u001b[A\u001b[A\u001b[A\u001b[A\u001b[A\n",
      "\n",
      "\n",
      "\n",
      "\n",
      " 81%|████████  | 350/432 [00:23<00:05, 13.73it/s]\u001b[A\u001b[A\u001b[A\u001b[A\u001b[A\n",
      "\n",
      "\n",
      "\n",
      "\n",
      " 81%|████████▏ | 352/432 [00:23<00:05, 14.52it/s]\u001b[A\u001b[A\u001b[A\u001b[A\u001b[A\n",
      "\n",
      "\n",
      "\n",
      "\n",
      " 82%|████████▏ | 354/432 [00:23<00:04, 15.68it/s]\u001b[A\u001b[A\u001b[A\u001b[A\u001b[A\n",
      "\n",
      "\n",
      "\n",
      "\n",
      " 82%|████████▏ | 356/432 [00:23<00:04, 16.35it/s]\u001b[A\u001b[A\u001b[A\u001b[A\u001b[A\n",
      "\n",
      "\n",
      "\n",
      "\n",
      " 83%|████████▎ | 358/432 [00:23<00:04, 16.90it/s]\u001b[A\u001b[A\u001b[A\u001b[A\u001b[A\n",
      "\n",
      "\n",
      "\n",
      "\n",
      " 83%|████████▎ | 360/432 [00:23<00:04, 17.69it/s]\u001b[A\u001b[A\u001b[A\u001b[A\u001b[A\n",
      "\n",
      "\n",
      "\n",
      "\n",
      " 84%|████████▍ | 362/432 [00:24<00:05, 13.05it/s]\u001b[A\u001b[A\u001b[A\u001b[A\u001b[A\n",
      "\n",
      "\n",
      "\n",
      "\n",
      " 84%|████████▍ | 364/432 [00:24<00:04, 14.46it/s]\u001b[A\u001b[A\u001b[A\u001b[A\u001b[A\n",
      "\n",
      "\n",
      "\n",
      "\n",
      " 85%|████████▍ | 366/432 [00:24<00:04, 15.54it/s]\u001b[A\u001b[A\u001b[A\u001b[A\u001b[A\n",
      "\n",
      "\n",
      "\n",
      "\n",
      " 85%|████████▌ | 368/432 [00:24<00:03, 16.46it/s]\u001b[A\u001b[A\u001b[A\u001b[A\u001b[A\n",
      "\n",
      "\n",
      "\n",
      "\n",
      " 86%|████████▌ | 370/432 [00:24<00:03, 17.17it/s]\u001b[A\u001b[A\u001b[A\u001b[A\u001b[A\n",
      "\n",
      "\n",
      "\n",
      "\n",
      " 86%|████████▌ | 372/432 [00:24<00:03, 17.32it/s]\u001b[A\u001b[A\u001b[A\u001b[A\u001b[A\n",
      "\n",
      "\n",
      "\n",
      "\n",
      " 87%|████████▋ | 374/432 [00:24<00:03, 17.61it/s]\u001b[A\u001b[A\u001b[A\u001b[A\u001b[A\n",
      "\n",
      "\n",
      "\n",
      "\n",
      " 87%|████████▋ | 376/432 [00:24<00:03, 17.53it/s]\u001b[A\u001b[A\u001b[A\u001b[A\u001b[A\n",
      "\n",
      "\n",
      "\n",
      "\n",
      " 88%|████████▊ | 378/432 [00:25<00:03, 15.08it/s]\u001b[A\u001b[A\u001b[A\u001b[A\u001b[A\n",
      "\n",
      "\n",
      "\n",
      "\n",
      " 88%|████████▊ | 380/432 [00:25<00:03, 16.11it/s]\u001b[A\u001b[A\u001b[A\u001b[A\u001b[A\n",
      "\n",
      "\n",
      "\n",
      "\n",
      " 88%|████████▊ | 382/432 [00:25<00:02, 17.02it/s]\u001b[A\u001b[A\u001b[A\u001b[A\u001b[A\n",
      "\n",
      "\n",
      "\n",
      "\n",
      " 89%|████████▉ | 384/432 [00:25<00:02, 17.64it/s]\u001b[A\u001b[A\u001b[A\u001b[A\u001b[A\n",
      "\n",
      "\n",
      "\n",
      "\n",
      " 89%|████████▉ | 386/432 [00:25<00:02, 18.25it/s]\u001b[A\u001b[A\u001b[A\u001b[A\u001b[A\n",
      "\n",
      "\n",
      "\n",
      "\n",
      " 90%|████████▉ | 388/432 [00:25<00:02, 18.71it/s]\u001b[A\u001b[A\u001b[A\u001b[A\u001b[A\n",
      "\n",
      "\n",
      "\n",
      "\n",
      " 90%|█████████ | 390/432 [00:25<00:02, 18.62it/s]\u001b[A\u001b[A\u001b[A\u001b[A\u001b[A\n",
      "\n",
      "\n",
      "\n",
      "\n",
      " 91%|█████████ | 392/432 [00:25<00:02, 18.96it/s]\u001b[A\u001b[A\u001b[A\u001b[A\u001b[A\n",
      "\n",
      "\n",
      "\n",
      "\n",
      " 91%|█████████ | 394/432 [00:26<00:02, 14.64it/s]\u001b[A\u001b[A\u001b[A\u001b[A\u001b[A\n",
      "\n",
      "\n",
      "\n",
      "\n",
      " 92%|█████████▏| 396/432 [00:26<00:02, 15.62it/s]\u001b[A\u001b[A\u001b[A\u001b[A\u001b[A\n",
      "\n",
      "\n",
      "\n",
      "\n",
      " 92%|█████████▏| 398/432 [00:26<00:02, 16.60it/s]\u001b[A\u001b[A\u001b[A\u001b[A\u001b[A\n",
      "\n",
      "\n",
      "\n",
      "\n",
      " 93%|█████████▎| 400/432 [00:26<00:01, 17.39it/s]\u001b[A\u001b[A\u001b[A\u001b[A\u001b[A\n",
      "\n",
      "\n",
      "\n",
      "\n",
      " 93%|█████████▎| 402/432 [00:26<00:01, 17.99it/s]\u001b[A\u001b[A\u001b[A\u001b[A\u001b[A\n",
      "\n",
      "\n",
      "\n",
      "\n",
      " 94%|█████████▎| 404/432 [00:26<00:01, 18.47it/s]\u001b[A\u001b[A\u001b[A\u001b[A\u001b[A\n",
      "\n",
      "\n",
      "\n",
      "\n",
      " 94%|█████████▍| 406/432 [00:26<00:01, 18.67it/s]\u001b[A\u001b[A\u001b[A\u001b[A\u001b[A\n",
      "\n",
      "\n",
      "\n",
      "\n",
      " 94%|█████████▍| 408/432 [00:26<00:01, 18.68it/s]\u001b[A\u001b[A\u001b[A\u001b[A\u001b[A\n",
      "\n",
      "\n",
      "\n",
      "\n",
      " 95%|█████████▍| 410/432 [00:26<00:01, 18.94it/s]\u001b[A\u001b[A\u001b[A\u001b[A\u001b[A\n",
      "\n",
      "\n",
      "\n",
      "\n",
      " 95%|█████████▌| 412/432 [00:27<00:01, 14.53it/s]\u001b[A\u001b[A\u001b[A\u001b[A\u001b[A\n",
      "\n",
      "\n",
      "\n",
      "\n",
      " 96%|█████████▌| 414/432 [00:27<00:02,  8.69it/s]\u001b[A\u001b[A\u001b[A\u001b[A\u001b[A\n",
      "\n",
      "\n",
      "\n",
      "\n",
      " 96%|█████████▋| 416/432 [00:27<00:01, 10.36it/s]\u001b[A\u001b[A\u001b[A\u001b[A\u001b[A\n",
      "\n",
      "\n",
      "\n",
      "\n",
      " 97%|█████████▋| 418/432 [00:27<00:01, 11.92it/s]\u001b[A\u001b[A\u001b[A\u001b[A\u001b[A\n",
      "\n",
      "\n",
      "\n",
      "\n",
      " 97%|█████████▋| 420/432 [00:27<00:00, 13.32it/s]\u001b[A\u001b[A\u001b[A\u001b[A\u001b[A\n",
      "\n",
      "\n",
      "\n",
      "\n",
      " 98%|█████████▊| 422/432 [00:27<00:00, 14.73it/s]\u001b[A\u001b[A\u001b[A\u001b[A\u001b[A\n",
      "\n",
      "\n",
      "\n",
      "\n",
      " 98%|█████████▊| 424/432 [00:28<00:00, 15.75it/s]\u001b[A\u001b[A\u001b[A\u001b[A\u001b[A\n",
      "\n",
      "\n",
      "\n",
      "\n",
      " 99%|█████████▊| 426/432 [00:28<00:00, 16.06it/s]\u001b[A\u001b[A\u001b[A\u001b[A\u001b[A\n",
      "\n",
      "\n",
      "\n",
      "\n",
      " 99%|█████████▉| 428/432 [00:28<00:00, 12.47it/s]\u001b[A\u001b[A\u001b[A\u001b[A\u001b[A\n",
      "\n",
      "\n",
      "\n",
      "\n",
      "100%|█████████▉| 430/432 [00:28<00:00, 13.89it/s]\u001b[A\u001b[A\u001b[A\u001b[A\u001b[A\n",
      "\n",
      "\n",
      "\n",
      "\n",
      "100%|██████████| 432/432 [00:28<00:00, 15.09it/s]\n"
     ]
    }
   ],
   "source": [
    "for i in tqdm(range(0,len(X_test_spectrogram))):\n",
    "  plt.figure()\n",
    "  plt.specgram(X_test_spectrogram[i], Fs=sample_rate)\n",
    "  plt.axis('off')\n",
    "  plt.savefig('/content/drive/My Drive/Speech Emotion Recognition/Test_Spectogram_Images/test_spectrogram_{}'.format(i)+'.png',transparent=True,pad_inches=0.0,bbox_inches='tight')\n",
    "  plt.close()"
   ]
  },
  {
   "cell_type": "code",
   "execution_count": 153,
   "metadata": {
    "colab": {},
    "colab_type": "code",
    "id": "AP-ACnhmVSfa"
   },
   "outputs": [],
   "source": [
    "y_train=y_train.astype(int)\n",
    "y_test=y_test.astype(int)"
   ]
  },
  {
   "cell_type": "code",
   "execution_count": null,
   "metadata": {
    "colab": {},
    "colab_type": "code",
    "id": "ZgG7qlXbePIN"
   },
   "outputs": [],
   "source": [
    "print(y_train)"
   ]
  },
  {
   "cell_type": "code",
   "execution_count": 154,
   "metadata": {
    "colab": {},
    "colab_type": "code",
    "id": "PBcW7clBVdEA"
   },
   "outputs": [],
   "source": [
    "Y_tr=[]\n",
    "Y_tst=[]\n",
    "for i in y_train:\n",
    "  Y_tr.append(i-1)\n",
    "for i in y_test:\n",
    "  Y_tst.append(i-1) "
   ]
  },
  {
   "cell_type": "code",
   "execution_count": 155,
   "metadata": {
    "colab": {},
    "colab_type": "code",
    "id": "IcL9PJGAVm7X"
   },
   "outputs": [],
   "source": [
    "import tensorflow as tf\n",
    "Y_tr=tf.keras.utils.to_categorical(Y_tr,8)\n",
    "Y_tst=tf.keras.utils.to_categorical(Y_tst,8)"
   ]
  },
  {
   "cell_type": "code",
   "execution_count": 123,
   "metadata": {
    "colab": {},
    "colab_type": "code",
    "id": "GreaV9yhb58H"
   },
   "outputs": [],
   "source": [
    "Y_tr=list(Y_tr)\n",
    "Y_tst=list(Y_tst)"
   ]
  },
  {
   "cell_type": "code",
   "execution_count": 124,
   "metadata": {
    "colab": {},
    "colab_type": "code",
    "id": "EaCVRJRUbUa0"
   },
   "outputs": [],
   "source": [
    "for i in range(len(Y_tr)):\n",
    "  Y_tr[i]=list(Y_tr[i])\n",
    "for i in range(len(Y_tst)):\n",
    "  Y_tst[i]=list(Y_tst[i])"
   ]
  },
  {
   "cell_type": "code",
   "execution_count": 164,
   "metadata": {
    "colab": {
     "base_uri": "https://localhost:8080/",
     "height": 35
    },
    "colab_type": "code",
    "id": "B-Srn8UZegiy",
    "outputId": "c801f115-03b2-4a85-aaae-e8741ac4a7f3"
   },
   "outputs": [
    {
     "name": "stdout",
     "output_type": "stream",
     "text": [
      "{1: 'neutral', 2: 'calm', 3: 'happy', 4: 'sad', 5: 'angry', 6: 'fearful', 7: 'disgust', 8: 'surprised'}\n"
     ]
    }
   ],
   "source": [
    "print(emotion_class)"
   ]
  },
  {
   "cell_type": "code",
   "execution_count": 165,
   "metadata": {
    "colab": {},
    "colab_type": "code",
    "id": "RcvM45kchCkg"
   },
   "outputs": [],
   "source": [
    "Y_train=[]\n",
    "Y_test=[]\n",
    "for i in y_train:\n",
    "  Y_train.append(emotion_class.get(i))\n",
    "for i in y_test:\n",
    "  Y_test.append(emotion_class.get(i))"
   ]
  },
  {
   "cell_type": "code",
   "execution_count": 166,
   "metadata": {
    "colab": {
     "base_uri": "https://localhost:8080/",
     "height": 35
    },
    "colab_type": "code",
    "id": "4Kf838EykN7N",
    "outputId": "444e644c-a84c-44e3-f9f3-53db219c6718"
   },
   "outputs": [
    {
     "name": "stdout",
     "output_type": "stream",
     "text": [
      "432 1008\n"
     ]
    }
   ],
   "source": [
    "import os\n",
    "train_paths=os.listdir('/content/drive/My Drive/Speech Emotion Recognition/Train_Spectogram_Images')\n",
    "test_paths=os.listdir('/content/drive/My Drive/Speech Emotion Recognition/Test_Spectogram_Images')\n",
    "print(len(test_paths),len(train_paths))\n",
    "train_zipped=zip(train_paths,Y_train)\n",
    "test_zipped=zip(test_paths,Y_test)\n",
    "train_zipped=pd.DataFrame(train_zipped,columns=['path','target'])\n",
    "test_zipped=pd.DataFrame(test_zipped,columns=['path','target'])"
   ]
  },
  {
   "cell_type": "code",
   "execution_count": null,
   "metadata": {
    "colab": {},
    "colab_type": "code",
    "id": "vVEfF6GdngO4"
   },
   "outputs": [],
   "source": [
    "print(train_zipped.head(2),test_zipped.head(2))"
   ]
  },
  {
   "cell_type": "code",
   "execution_count": 157,
   "metadata": {
    "colab": {
     "base_uri": "https://localhost:8080/",
     "height": 52
    },
    "colab_type": "code",
    "id": "2nXHD49gnRj7",
    "outputId": "ff61f00d-4268-49ff-eaa7-df26455b6314"
   },
   "outputs": [
    {
     "name": "stdout",
     "output_type": "stream",
     "text": [
      "train_spectrogram_0.png [0. 0. 0. 1. 0. 0. 0. 0.]\n",
      "<class 'numpy.ndarray'>\n"
     ]
    }
   ],
   "source": [
    "print(train_paths[0],Y_tr[0])\n",
    "print(type(train_zipped['target'].iloc[2]))"
   ]
  },
  {
   "cell_type": "code",
   "execution_count": 167,
   "metadata": {
    "colab": {
     "base_uri": "https://localhost:8080/",
     "height": 52
    },
    "colab_type": "code",
    "id": "wG5KsjpTMhcZ",
    "outputId": "121c141e-6bbc-40f6-9f60-51728b8e98e3"
   },
   "outputs": [
    {
     "name": "stdout",
     "output_type": "stream",
     "text": [
      "Found 1008 validated image filenames belonging to 8 classes.\n",
      "Found 432 validated image filenames belonging to 8 classes.\n"
     ]
    }
   ],
   "source": [
    "import tensorflow as tf\n",
    "#datagen=tf.keras.preprocessing.image.ImageDataGenerator()\n",
    "datagen = tf.keras.preprocessing.image.ImageDataGenerator(rotation_range=15,width_shift_range=0.1, height_shift_range=0.1,rescale=1./255,\n",
    "        shear_range=0.2,\n",
    "        zoom_range=0.2,\n",
    "         horizontal_flip=True)\n",
    "\n",
    "train_generator=datagen.flow_from_dataframe(dataframe=train_zipped, directory='/content/drive/My Drive/Speech Emotion Recognition/Train_Spectogram_Images', x_col=\"path\", y_col=\"target\", \n",
    "                                            class_mode=\"categorical\",target_size=(128,128) ,batch_size=32)\n",
    "test_generator=datagen.flow_from_dataframe(dataframe=test_zipped, directory='/content/drive/My Drive/Speech Emotion Recognition/Test_Spectogram_Images', x_col=\"path\", y_col=\"target\", \n",
    "                                            class_mode=\"categorical\",target_size=(128,128) ,batch_size=32)\n"
   ]
  },
  {
   "cell_type": "code",
   "execution_count": 128,
   "metadata": {
    "colab": {},
    "colab_type": "code",
    "id": "jSWKzXI5rcmG"
   },
   "outputs": [],
   "source": [
    "import tensorflow as tf\n",
    "IMG_SHAPE = (128,128, 3)\n",
    "VGG16_MODEL=tf.keras.applications.VGG16(input_shape=IMG_SHAPE,include_top=False,weights='imagenet')\n",
    "for layers in VGG16_MODEL.layers:\n",
    "  layers.trainable=False"
   ]
  },
  {
   "cell_type": "code",
   "execution_count": 132,
   "metadata": {
    "colab": {
     "base_uri": "https://localhost:8080/",
     "height": 1000
    },
    "colab_type": "code",
    "id": "mX_1-x0vrgnq",
    "outputId": "b433e521-2f4f-4951-96c0-4d2e0041abb8"
   },
   "outputs": [
    {
     "name": "stdout",
     "output_type": "stream",
     "text": [
      "Model: \"model\"\n",
      "_________________________________________________________________\n",
      "Layer (type)                 Output Shape              Param #   \n",
      "=================================================================\n",
      "input_1 (InputLayer)         [(None, 128, 128, 3)]     0         \n",
      "_________________________________________________________________\n",
      "block1_conv1 (Conv2D)        (None, 128, 128, 64)      1792      \n",
      "_________________________________________________________________\n",
      "block1_conv2 (Conv2D)        (None, 128, 128, 64)      36928     \n",
      "_________________________________________________________________\n",
      "block1_pool (MaxPooling2D)   (None, 64, 64, 64)        0         \n",
      "_________________________________________________________________\n",
      "block2_conv1 (Conv2D)        (None, 64, 64, 128)       73856     \n",
      "_________________________________________________________________\n",
      "block2_conv2 (Conv2D)        (None, 64, 64, 128)       147584    \n",
      "_________________________________________________________________\n",
      "block2_pool (MaxPooling2D)   (None, 32, 32, 128)       0         \n",
      "_________________________________________________________________\n",
      "block3_conv1 (Conv2D)        (None, 32, 32, 256)       295168    \n",
      "_________________________________________________________________\n",
      "block3_conv2 (Conv2D)        (None, 32, 32, 256)       590080    \n",
      "_________________________________________________________________\n",
      "block3_conv3 (Conv2D)        (None, 32, 32, 256)       590080    \n",
      "_________________________________________________________________\n",
      "block3_pool (MaxPooling2D)   (None, 16, 16, 256)       0         \n",
      "_________________________________________________________________\n",
      "block4_conv1 (Conv2D)        (None, 16, 16, 512)       1180160   \n",
      "_________________________________________________________________\n",
      "block4_conv2 (Conv2D)        (None, 16, 16, 512)       2359808   \n",
      "_________________________________________________________________\n",
      "block4_conv3 (Conv2D)        (None, 16, 16, 512)       2359808   \n",
      "_________________________________________________________________\n",
      "block4_pool (MaxPooling2D)   (None, 8, 8, 512)         0         \n",
      "_________________________________________________________________\n",
      "block5_conv1 (Conv2D)        (None, 8, 8, 512)         2359808   \n",
      "_________________________________________________________________\n",
      "block5_conv2 (Conv2D)        (None, 8, 8, 512)         2359808   \n",
      "_________________________________________________________________\n",
      "block5_conv3 (Conv2D)        (None, 8, 8, 512)         2359808   \n",
      "_________________________________________________________________\n",
      "block5_pool (MaxPooling2D)   (None, 4, 4, 512)         0         \n",
      "_________________________________________________________________\n",
      "conv2d (Conv2D)              (None, 4, 4, 64)          294976    \n",
      "_________________________________________________________________\n",
      "max_pooling2d (MaxPooling2D) (None, 4, 4, 64)          0         \n",
      "_________________________________________________________________\n",
      "flatten (Flatten)            (None, 1024)              0         \n",
      "_________________________________________________________________\n",
      "dense (Dense)                (None, 32)                32800     \n",
      "_________________________________________________________________\n",
      "dense_1 (Dense)              (None, 16)                528       \n",
      "_________________________________________________________________\n",
      "dense_2 (Dense)              (None, 8)                 136       \n",
      "=================================================================\n",
      "Total params: 15,043,128\n",
      "Trainable params: 328,440\n",
      "Non-trainable params: 14,714,688\n",
      "_________________________________________________________________\n"
     ]
    }
   ],
   "source": [
    "from tensorflow.keras import Sequential\n",
    "from tensorflow.keras import layers,Model\n",
    "from tensorflow.keras.layers import Conv2D,Dense\n",
    "\n",
    "l1 = layers.Conv2D(64,(3,3),padding='same',activation='relu')(VGG16_MODEL.output)\n",
    "\n",
    "pool = layers.MaxPooling2D(1)(l1)\n",
    "\n",
    "flatten= layers.Flatten()(pool)\n",
    "dp1=layers.Dropout(0.4)(flatten)\n",
    "\n",
    "l3=layers.Dense(32,activation='relu')(flatten)\n",
    "dp2=layers.Dropout(0.4)(l3)\n",
    "l4=layers.Dense(16,activation='relu')(l3)\n",
    "dp2=layers.Dropout(0.3)(l4)\n",
    "output=layers.Dense(8,activation='softmax')(l4)\n",
    "model=Model(inputs=VGG16_MODEL.input,outputs=output)\n",
    "model.summary()"
   ]
  },
  {
   "cell_type": "code",
   "execution_count": 136,
   "metadata": {
    "colab": {
     "base_uri": "https://localhost:8080/",
     "height": 35
    },
    "colab_type": "code",
    "id": "8_HTrycmcY_k",
    "outputId": "5a97689d-f94d-46e0-d69c-f9633581143a"
   },
   "outputs": [
    {
     "name": "stdout",
     "output_type": "stream",
     "text": [
      "<keras_preprocessing.image.dataframe_iterator.DataFrameIterator object at 0x7f548dc087b8>\n"
     ]
    }
   ],
   "source": [
    "print(train_generator)"
   ]
  },
  {
   "cell_type": "code",
   "execution_count": 169,
   "metadata": {
    "colab": {},
    "colab_type": "code",
    "id": "81XxTRGqrlRY"
   },
   "outputs": [],
   "source": [
    "from tensorflow.keras import optimizers\n",
    "opt = optimizers.Adam(lr=0.0001,epsilon=1e-4)\n",
    "#opt_rms = optimizers.RMSprop(lr=0.0005,decay=1e-6)\n",
    "model.compile(loss='categorical_crossentropy',\n",
    "              optimizer=opt,\n",
    "              metrics=['accuracy'])"
   ]
  },
  {
   "cell_type": "code",
   "execution_count": null,
   "metadata": {
    "colab": {
     "base_uri": "https://localhost:8080/",
     "height": 1000
    },
    "colab_type": "code",
    "id": "pIOpj_P4K2y5",
    "outputId": "f0e80cd1-dc27-4ba3-ea43-ee5038ddccb4"
   },
   "outputs": [
    {
     "name": "stdout",
     "output_type": "stream",
     "text": [
      "Epoch 1/30\n",
      "31/31 [==============================] - 10s 322ms/step - loss: 2.0903 - accuracy: 0.1300 - val_loss: 2.0556 - val_accuracy: 0.1562\n",
      "Epoch 2/30\n",
      "31/31 [==============================] - 10s 323ms/step - loss: 2.0664 - accuracy: 0.1424 - val_loss: 2.0544 - val_accuracy: 0.1538\n",
      "Epoch 3/30\n",
      "31/31 [==============================] - 10s 334ms/step - loss: 2.0540 - accuracy: 0.1404 - val_loss: 2.0437 - val_accuracy: 0.1779\n",
      "Epoch 4/30\n",
      "31/31 [==============================] - 11s 358ms/step - loss: 2.0517 - accuracy: 0.1598 - val_loss: 2.0391 - val_accuracy: 0.1779\n",
      "Epoch 5/30\n",
      "31/31 [==============================] - 11s 346ms/step - loss: 2.0503 - accuracy: 0.1588 - val_loss: 2.0394 - val_accuracy: 0.1971\n",
      "Epoch 6/30\n",
      "31/31 [==============================] - 11s 347ms/step - loss: 2.0451 - accuracy: 0.1732 - val_loss: 2.0467 - val_accuracy: 0.1707\n",
      "Epoch 7/30\n",
      "31/31 [==============================] - 11s 350ms/step - loss: 2.0409 - accuracy: 0.1793 - val_loss: 2.0375 - val_accuracy: 0.1707\n",
      "Epoch 8/30\n",
      "31/31 [==============================] - 11s 344ms/step - loss: 2.0326 - accuracy: 0.1680 - val_loss: 2.0339 - val_accuracy: 0.1947\n",
      "Epoch 9/30\n",
      "31/31 [==============================] - 10s 327ms/step - loss: 2.0276 - accuracy: 0.1825 - val_loss: 2.0290 - val_accuracy: 0.1971\n",
      "Epoch 10/30\n",
      "31/31 [==============================] - 10s 334ms/step - loss: 2.0246 - accuracy: 0.1957 - val_loss: 2.0297 - val_accuracy: 0.2139\n",
      "Epoch 11/30\n",
      "31/31 [==============================] - 10s 333ms/step - loss: 2.0262 - accuracy: 0.1885 - val_loss: 2.0260 - val_accuracy: 0.1947\n",
      "Epoch 12/30\n",
      "31/31 [==============================] - 10s 336ms/step - loss: 2.0179 - accuracy: 0.1926 - val_loss: 2.0320 - val_accuracy: 0.1827\n",
      "Epoch 13/30\n",
      "31/31 [==============================] - 11s 344ms/step - loss: 2.0180 - accuracy: 0.2070 - val_loss: 2.0213 - val_accuracy: 0.1947\n",
      "Epoch 14/30\n",
      "31/31 [==============================] - 11s 347ms/step - loss: 2.0173 - accuracy: 0.1998 - val_loss: 2.0087 - val_accuracy: 0.2019\n",
      "Epoch 15/30\n",
      "31/31 [==============================] - 11s 354ms/step - loss: 2.0063 - accuracy: 0.2131 - val_loss: 2.0291 - val_accuracy: 0.1995\n",
      "Epoch 16/30\n",
      "31/31 [==============================] - 11s 347ms/step - loss: 2.0077 - accuracy: 0.2111 - val_loss: 2.0276 - val_accuracy: 0.1803\n",
      "Epoch 17/30\n",
      "31/31 [==============================] - 11s 348ms/step - loss: 2.0074 - accuracy: 0.2029 - val_loss: 2.0151 - val_accuracy: 0.2115\n",
      "Epoch 18/30\n",
      "31/31 [==============================] - 11s 343ms/step - loss: 2.0127 - accuracy: 0.2018 - val_loss: 2.0221 - val_accuracy: 0.1803\n",
      "Epoch 19/30\n",
      "31/31 [==============================] - 11s 343ms/step - loss: 2.0041 - accuracy: 0.1885 - val_loss: 2.0144 - val_accuracy: 0.2067\n",
      "Epoch 20/30\n",
      "31/31 [==============================] - 11s 339ms/step - loss: 2.0012 - accuracy: 0.2131 - val_loss: 2.0173 - val_accuracy: 0.1875\n",
      "Epoch 21/30\n",
      "31/31 [==============================] - 11s 342ms/step - loss: 1.9932 - accuracy: 0.2182 - val_loss: 2.0093 - val_accuracy: 0.1947\n",
      "Epoch 22/30\n",
      "31/31 [==============================] - 11s 350ms/step - loss: 2.0060 - accuracy: 0.1957 - val_loss: 2.0141 - val_accuracy: 0.1827\n",
      "Epoch 23/30\n",
      "31/31 [==============================] - 11s 345ms/step - loss: 1.9978 - accuracy: 0.1998 - val_loss: 2.0146 - val_accuracy: 0.1875\n",
      "Epoch 24/30\n",
      "31/31 [==============================] - 11s 340ms/step - loss: 1.9864 - accuracy: 0.2285 - val_loss: 2.0131 - val_accuracy: 0.2043\n",
      "Epoch 25/30\n",
      "31/31 [==============================] - 10s 338ms/step - loss: 1.9809 - accuracy: 0.2244 - val_loss: 2.0173 - val_accuracy: 0.2115\n",
      "Epoch 26/30\n",
      "31/31 [==============================] - 11s 341ms/step - loss: 1.9892 - accuracy: 0.2285 - val_loss: 2.0042 - val_accuracy: 0.2139\n",
      "Epoch 27/30\n",
      "31/31 [==============================] - 11s 345ms/step - loss: 1.9703 - accuracy: 0.2275 - val_loss: 2.0070 - val_accuracy: 0.1875\n",
      "Epoch 28/30\n",
      "31/31 [==============================] - 11s 353ms/step - loss: 1.9780 - accuracy: 0.2326 - val_loss: 2.0029 - val_accuracy: 0.2019\n",
      "Epoch 29/30\n",
      "31/31 [==============================] - 11s 345ms/step - loss: 1.9839 - accuracy: 0.2203 - val_loss: 2.0113 - val_accuracy: 0.2236\n",
      "Epoch 30/30\n",
      "31/31 [==============================] - 11s 342ms/step - loss: 1.9847 - accuracy: 0.2141 - val_loss: 2.0235 - val_accuracy: 0.1755\n"
     ]
    },
    {
     "data": {
      "text/plain": [
       "<tensorflow.python.keras.callbacks.History at 0x7f54853541d0>"
      ]
     },
     "execution_count": 170,
     "metadata": {
      "tags": []
     },
     "output_type": "execute_result"
    }
   ],
   "source": [
    "import numpy as np\n",
    "from tensorflow.keras import callbacks\n",
    "from tensorflow.keras.callbacks import ModelCheckpoint,LearningRateScheduler\n",
    "import datetime\n",
    "tf.keras.backend.clear_session()\n",
    "np.random.seed(0)\n",
    "model.fit_generator(generator = train_generator,validation_data=test_generator,steps_per_epoch=len(X_train_spectrogram)//32,validation_steps=len(X_test_spectrogram)//32,epochs=30,verbose=1)"
   ]
  },
  {
   "cell_type": "code",
   "execution_count": null,
   "metadata": {
    "colab": {},
    "colab_type": "code",
    "id": "W8wrpIN5XM5G"
   },
   "outputs": [],
   "source": []
  }
 ],
 "metadata": {
  "accelerator": "GPU",
  "colab": {
   "name": "Speech_detection_Assignment.ipynb",
   "provenance": []
  },
  "kernelspec": {
   "display_name": "Python 3",
   "language": "python",
   "name": "python3"
  },
  "language_info": {
   "codemirror_mode": {
    "name": "ipython",
    "version": 3
   },
   "file_extension": ".py",
   "mimetype": "text/x-python",
   "name": "python",
   "nbconvert_exporter": "python",
   "pygments_lexer": "ipython3",
   "version": "3.6.5"
  }
 },
 "nbformat": 4,
 "nbformat_minor": 1
}
